{
 "cells": [
  {
   "cell_type": "code",
   "execution_count": 1,
   "metadata": {
    "collapsed": true
   },
   "outputs": [],
   "source": [
    "import pandas as pd\n",
    "import geopandas as gpd\n",
    "from shapely.geometry import Point\n",
    "\n",
    "%matplotlib inline"
   ]
  },
  {
   "cell_type": "code",
   "execution_count": 2,
   "metadata": {},
   "outputs": [
    {
     "data": {
      "text/html": [
       "<div>\n",
       "<style>\n",
       "    .dataframe thead tr:only-child th {\n",
       "        text-align: right;\n",
       "    }\n",
       "\n",
       "    .dataframe thead th {\n",
       "        text-align: left;\n",
       "    }\n",
       "\n",
       "    .dataframe tbody tr th {\n",
       "        vertical-align: top;\n",
       "    }\n",
       "</style>\n",
       "<table border=\"1\" class=\"dataframe\">\n",
       "  <thead>\n",
       "    <tr style=\"text-align: right;\">\n",
       "      <th></th>\n",
       "      <th>State Code</th>\n",
       "      <th>County Code</th>\n",
       "      <th>Site Num</th>\n",
       "      <th>Parameter Code</th>\n",
       "      <th>POC</th>\n",
       "      <th>Latitude</th>\n",
       "      <th>Longitude</th>\n",
       "      <th>Datum</th>\n",
       "      <th>Parameter Name</th>\n",
       "      <th>Sample Duration</th>\n",
       "      <th>...</th>\n",
       "      <th>75th Percentile</th>\n",
       "      <th>50th Percentile</th>\n",
       "      <th>10th Percentile</th>\n",
       "      <th>Local Site Name</th>\n",
       "      <th>Address</th>\n",
       "      <th>State Name</th>\n",
       "      <th>County Name</th>\n",
       "      <th>City Name</th>\n",
       "      <th>CBSA Name</th>\n",
       "      <th>Date of Last Change</th>\n",
       "    </tr>\n",
       "  </thead>\n",
       "  <tbody>\n",
       "    <tr>\n",
       "      <th>0</th>\n",
       "      <td>1</td>\n",
       "      <td>3</td>\n",
       "      <td>10</td>\n",
       "      <td>88101</td>\n",
       "      <td>1</td>\n",
       "      <td>30.497478</td>\n",
       "      <td>-87.880258</td>\n",
       "      <td>NAD83</td>\n",
       "      <td>PM2.5 - Local Conditions</td>\n",
       "      <td>24 HOUR</td>\n",
       "      <td>...</td>\n",
       "      <td>8.0</td>\n",
       "      <td>5.7</td>\n",
       "      <td>3.8</td>\n",
       "      <td>FAIRHOPE, Alabama</td>\n",
       "      <td>FAIRHOPE HIGH SCHOOL, 1 PIRATE DRIVE, FAIRHOPE...</td>\n",
       "      <td>Alabama</td>\n",
       "      <td>Baldwin</td>\n",
       "      <td>Fairhope</td>\n",
       "      <td>Daphne-Fairhope-Foley, AL</td>\n",
       "      <td>2017-05-18</td>\n",
       "    </tr>\n",
       "    <tr>\n",
       "      <th>1</th>\n",
       "      <td>1</td>\n",
       "      <td>27</td>\n",
       "      <td>1</td>\n",
       "      <td>88101</td>\n",
       "      <td>1</td>\n",
       "      <td>33.284928</td>\n",
       "      <td>-85.803608</td>\n",
       "      <td>NAD83</td>\n",
       "      <td>PM2.5 - Local Conditions</td>\n",
       "      <td>24 HOUR</td>\n",
       "      <td>...</td>\n",
       "      <td>12.4</td>\n",
       "      <td>8.7</td>\n",
       "      <td>2.9</td>\n",
       "      <td>ASHLAND</td>\n",
       "      <td>ASHLAND AIRPORT</td>\n",
       "      <td>Alabama</td>\n",
       "      <td>Clay</td>\n",
       "      <td>Ashland</td>\n",
       "      <td>NaN</td>\n",
       "      <td>2017-05-18</td>\n",
       "    </tr>\n",
       "    <tr>\n",
       "      <th>2</th>\n",
       "      <td>1</td>\n",
       "      <td>33</td>\n",
       "      <td>1002</td>\n",
       "      <td>88101</td>\n",
       "      <td>1</td>\n",
       "      <td>34.762619</td>\n",
       "      <td>-87.638097</td>\n",
       "      <td>NAD83</td>\n",
       "      <td>PM2.5 - Local Conditions</td>\n",
       "      <td>24 HOUR</td>\n",
       "      <td>...</td>\n",
       "      <td>10.0</td>\n",
       "      <td>7.1</td>\n",
       "      <td>3.5</td>\n",
       "      <td>MUSCLE SHOALS</td>\n",
       "      <td>WILSON DAM RD AND 2ND ST.</td>\n",
       "      <td>Alabama</td>\n",
       "      <td>Colbert</td>\n",
       "      <td>Muscle Shoals</td>\n",
       "      <td>Florence-Muscle Shoals, AL</td>\n",
       "      <td>2017-05-18</td>\n",
       "    </tr>\n",
       "    <tr>\n",
       "      <th>3</th>\n",
       "      <td>1</td>\n",
       "      <td>49</td>\n",
       "      <td>1003</td>\n",
       "      <td>88101</td>\n",
       "      <td>1</td>\n",
       "      <td>34.288567</td>\n",
       "      <td>-85.969858</td>\n",
       "      <td>NAD83</td>\n",
       "      <td>PM2.5 - Local Conditions</td>\n",
       "      <td>24 HOUR</td>\n",
       "      <td>...</td>\n",
       "      <td>9.6</td>\n",
       "      <td>8.2</td>\n",
       "      <td>4.2</td>\n",
       "      <td>CROSSVILLE</td>\n",
       "      <td>13112 HWY.68 , CROSSVILLE AL. 35962</td>\n",
       "      <td>Alabama</td>\n",
       "      <td>DeKalb</td>\n",
       "      <td>Crossville</td>\n",
       "      <td>Fort Payne, AL</td>\n",
       "      <td>2017-05-19</td>\n",
       "    </tr>\n",
       "    <tr>\n",
       "      <th>4</th>\n",
       "      <td>1</td>\n",
       "      <td>55</td>\n",
       "      <td>10</td>\n",
       "      <td>88101</td>\n",
       "      <td>1</td>\n",
       "      <td>33.991494</td>\n",
       "      <td>-85.992647</td>\n",
       "      <td>NAD83</td>\n",
       "      <td>PM2.5 - Local Conditions</td>\n",
       "      <td>24 HOUR</td>\n",
       "      <td>...</td>\n",
       "      <td>11.9</td>\n",
       "      <td>8.2</td>\n",
       "      <td>3.9</td>\n",
       "      <td>GADSDEN C. COLLEGE</td>\n",
       "      <td>1001 WALLACE DRIVE, GADSDEN, AL 35902</td>\n",
       "      <td>Alabama</td>\n",
       "      <td>Etowah</td>\n",
       "      <td>Gadsden</td>\n",
       "      <td>Gadsden, AL</td>\n",
       "      <td>2017-05-18</td>\n",
       "    </tr>\n",
       "  </tbody>\n",
       "</table>\n",
       "<p>5 rows × 55 columns</p>\n",
       "</div>"
      ],
      "text/plain": [
       "   State Code  County Code  Site Num  Parameter Code  POC   Latitude  \\\n",
       "0           1            3        10           88101    1  30.497478   \n",
       "1           1           27         1           88101    1  33.284928   \n",
       "2           1           33      1002           88101    1  34.762619   \n",
       "3           1           49      1003           88101    1  34.288567   \n",
       "4           1           55        10           88101    1  33.991494   \n",
       "\n",
       "   Longitude  Datum            Parameter Name Sample Duration  \\\n",
       "0 -87.880258  NAD83  PM2.5 - Local Conditions         24 HOUR   \n",
       "1 -85.803608  NAD83  PM2.5 - Local Conditions         24 HOUR   \n",
       "2 -87.638097  NAD83  PM2.5 - Local Conditions         24 HOUR   \n",
       "3 -85.969858  NAD83  PM2.5 - Local Conditions         24 HOUR   \n",
       "4 -85.992647  NAD83  PM2.5 - Local Conditions         24 HOUR   \n",
       "\n",
       "          ...          75th Percentile 50th Percentile 10th Percentile  \\\n",
       "0         ...                      8.0             5.7             3.8   \n",
       "1         ...                     12.4             8.7             2.9   \n",
       "2         ...                     10.0             7.1             3.5   \n",
       "3         ...                      9.6             8.2             4.2   \n",
       "4         ...                     11.9             8.2             3.9   \n",
       "\n",
       "      Local Site Name                                            Address  \\\n",
       "0   FAIRHOPE, Alabama  FAIRHOPE HIGH SCHOOL, 1 PIRATE DRIVE, FAIRHOPE...   \n",
       "1             ASHLAND                                    ASHLAND AIRPORT   \n",
       "2       MUSCLE SHOALS                          WILSON DAM RD AND 2ND ST.   \n",
       "3          CROSSVILLE                13112 HWY.68 , CROSSVILLE AL. 35962   \n",
       "4  GADSDEN C. COLLEGE              1001 WALLACE DRIVE, GADSDEN, AL 35902   \n",
       "\n",
       "  State Name  County Name      City Name                   CBSA Name  \\\n",
       "0    Alabama      Baldwin       Fairhope   Daphne-Fairhope-Foley, AL   \n",
       "1    Alabama         Clay        Ashland                         NaN   \n",
       "2    Alabama      Colbert  Muscle Shoals  Florence-Muscle Shoals, AL   \n",
       "3    Alabama       DeKalb     Crossville              Fort Payne, AL   \n",
       "4    Alabama       Etowah        Gadsden                 Gadsden, AL   \n",
       "\n",
       "   Date of Last Change  \n",
       "0           2017-05-18  \n",
       "1           2017-05-18  \n",
       "2           2017-05-18  \n",
       "3           2017-05-19  \n",
       "4           2017-05-18  \n",
       "\n",
       "[5 rows x 55 columns]"
      ]
     },
     "execution_count": 2,
     "metadata": {},
     "output_type": "execute_result"
    }
   ],
   "source": [
    "df = pd.read_csv(\"pm25_annual_fixed.csv\")\n",
    "df.head()"
   ]
  },
  {
   "cell_type": "code",
   "execution_count": 3,
   "metadata": {},
   "outputs": [
    {
     "data": {
      "text/plain": [
       "Index(['State Code', 'County Code', 'Site Num', 'Parameter Code', 'POC',\n",
       "       'Latitude', 'Longitude', 'Datum', 'Parameter Name', 'Sample Duration',\n",
       "       'Pollutant Standard', 'Metric Used', 'Method Name', 'Year',\n",
       "       'Units of Measure', 'Event Type', 'Observation Count',\n",
       "       'Observation Percent', 'Completeness Indicator', 'Valid Day Count',\n",
       "       'Required Day Count', 'Exceptional Data Count', 'Null Data Count',\n",
       "       'Primary Exceedance Count', 'Secondary Exceedance Count',\n",
       "       'Certification Indicator', 'Num Obs Below MDL', 'Arithmetic Mean',\n",
       "       'Arithmetic Standard Dev', '1st Max Value', '1st Max DateTime',\n",
       "       '2nd Max Value', '2nd Max DateTime', '3rd Max Value',\n",
       "       '3rd Max DateTime', '4th Max Value', '4th Max DateTime',\n",
       "       '1st Max Non Overlapping Value', '1st NO Max DateTime',\n",
       "       '2nd Max Non Overlapping Value', '2nd NO Max DateTime',\n",
       "       '99th Percentile', '98th Percentile', '95th Percentile',\n",
       "       '90th Percentile', '75th Percentile', '50th Percentile',\n",
       "       '10th Percentile', 'Local Site Name', 'Address', 'State Name',\n",
       "       'County Name', 'City Name', 'CBSA Name', 'Date of Last Change'],\n",
       "      dtype='object')"
      ]
     },
     "execution_count": 3,
     "metadata": {},
     "output_type": "execute_result"
    }
   ],
   "source": [
    "df.columns"
   ]
  },
  {
   "cell_type": "code",
   "execution_count": 4,
   "metadata": {},
   "outputs": [
    {
     "data": {
      "text/plain": [
       "0                      POINT (-87.880258 30.497478)\n",
       "1                      POINT (-85.803608 33.284928)\n",
       "2                      POINT (-87.638097 34.762619)\n",
       "3                      POINT (-85.969858 34.288567)\n",
       "4              POINT (-85.99264699999998 33.991494)\n",
       "5                      POINT (-85.390789 31.224783)\n",
       "6                         POINT (-86.815 33.553056)\n",
       "7              POINT (-87.00361099999998 33.331111)\n",
       "8              POINT (-86.54916700000004 33.545278)\n",
       "9              POINT (-86.92416700000004 33.499722)\n",
       "10                     POINT (-86.844112 33.521427)\n",
       "11             POINT (-86.58636199999999 34.687761)\n",
       "12                     POINT (-88.087761 30.770181)\n",
       "13             POINT (-86.26339399999998 32.412811)\n",
       "14                     POINT (-86.967536 34.530717)\n",
       "15     POINT (-84.99965300000002 32.43702800000001)\n",
       "16              POINT (-86.34943800000001 33.27947)\n",
       "17                     POINT (-87.484189 33.189931)\n",
       "18                    POINT (-112.095767 33.503833)\n",
       "19                    POINT (-111.038389 32.322661)\n",
       "20                       POINT (-110.9823 32.29515)\n",
       "21                    POINT (-110.936718 31.337204)\n",
       "22                      POINT (-91.55896 34.518515)\n",
       "23                     POINT (-91.950377 33.136862)\n",
       "24                     POINT (-90.193141 35.197288)\n",
       "25             POINT (-93.00017800000001 34.469441)\n",
       "26             POINT (-91.188914 35.63729199999999)\n",
       "27             POINT (-94.22623399999999 34.583699)\n",
       "28                     POINT (-92.281296 34.756189)\n",
       "29             POINT (-92.32869699999999 34.681343)\n",
       "                           ...                     \n",
       "411    POINT (-87.99344000000001 44.50729000000001)\n",
       "412                    POINT (-89.357298 43.100838)\n",
       "413                        POINT (-89.4358 43.0733)\n",
       "414                    POINT (-88.621111 43.466111)\n",
       "415              POINT (-91.14299999999999 44.7614)\n",
       "416                         POINT (-88.8086 45.565)\n",
       "417                        POINT (-90.6979 42.6938)\n",
       "418    POINT (-87.80929999999999 42.50472199999999)\n",
       "419                        POINT (-91.2269 43.7775)\n",
       "420                    POINT (-87.913504 43.060975)\n",
       "421                    POINT (-87.931983 42.930708)\n",
       "422            POINT (-87.920794 43.03987100000001)\n",
       "423                     POINT (-88.395178 44.30738)\n",
       "424                          POINT (-87.81 43.4981)\n",
       "425                        POINT (-89.6797 43.4351)\n",
       "426                        POINT (-90.5972 45.2066)\n",
       "427                         POINT (-89.654 46.0519)\n",
       "428                   POINT (-105.591725 41.311586)\n",
       "429                   POINT (-108.720003 42.529999)\n",
       "430                   POINT (-108.736277 42.841049)\n",
       "431                   POINT (-104.817801 41.139976)\n",
       "432           POINT (-104.778334 41.18222700000001)\n",
       "433                   POINT (-106.325088 42.851064)\n",
       "434                   POINT (-109.072975 44.532426)\n",
       "435                   POINT (-106.955933 44.815142)\n",
       "436                   POINT (-106.958569 44.795508)\n",
       "437                    POINT (-109.87076 42.869824)\n",
       "438                   POINT (-109.220722 41.591613)\n",
       "439                     POINT (-110.79799 43.45776)\n",
       "440                   POINT (-110.830833 44.373056)\n",
       "Length: 441, dtype: object"
      ]
     },
     "execution_count": 4,
     "metadata": {},
     "output_type": "execute_result"
    }
   ],
   "source": [
    "points = df.apply(lambda row: Point(row.Longitude, row.Latitude), axis=1)\n",
    "points"
   ]
  },
  {
   "cell_type": "code",
   "execution_count": 5,
   "metadata": {},
   "outputs": [
    {
     "data": {
      "text/plain": [
       "<matplotlib.axes._subplots.AxesSubplot at 0x103f88cc0>"
      ]
     },
     "execution_count": 5,
     "metadata": {},
     "output_type": "execute_result"
    },
    {
     "data": {
      "image/png": "[encoded data removed]",
      "text/plain": [
       "<matplotlib.figure.Figure at 0x103f88550>"
      ]
     },
     "metadata": {},
     "output_type": "display_data"
    }
   ],
   "source": [
    "power_plants = gpd.GeoDataFrame(df, geometry=points)\n",
    "power_plants.crs = {'init': 'epsg:4326'}\n",
    "power_plants.plot()"
   ]
  },
  {
   "cell_type": "code",
   "execution_count": 6,
   "metadata": {},
   "outputs": [
    {
     "data": {
      "text/html": [
       "<div>\n",
       "<style>\n",
       "    .dataframe thead tr:only-child th {\n",
       "        text-align: right;\n",
       "    }\n",
       "\n",
       "    .dataframe thead th {\n",
       "        text-align: left;\n",
       "    }\n",
       "\n",
       "    .dataframe tbody tr th {\n",
       "        vertical-align: top;\n",
       "    }\n",
       "</style>\n",
       "<table border=\"1\" class=\"dataframe\">\n",
       "  <thead>\n",
       "    <tr style=\"text-align: right;\">\n",
       "      <th></th>\n",
       "      <th>AFFGEOID</th>\n",
       "      <th>ALAND</th>\n",
       "      <th>AWATER</th>\n",
       "      <th>GEOID</th>\n",
       "      <th>LSAD</th>\n",
       "      <th>NAME</th>\n",
       "      <th>STATEFP</th>\n",
       "      <th>STATENS</th>\n",
       "      <th>STUSPS</th>\n",
       "      <th>geometry</th>\n",
       "    </tr>\n",
       "  </thead>\n",
       "  <tbody>\n",
       "    <tr>\n",
       "      <th>0</th>\n",
       "      <td>0400000US01</td>\n",
       "      <td>131173688951</td>\n",
       "      <td>4593686489</td>\n",
       "      <td>01</td>\n",
       "      <td>00</td>\n",
       "      <td>Alabama</td>\n",
       "      <td>01</td>\n",
       "      <td>01779775</td>\n",
       "      <td>AL</td>\n",
       "      <td>(POLYGON ((-88.053375 30.506987, -88.051087999...</td>\n",
       "    </tr>\n",
       "    <tr>\n",
       "      <th>1</th>\n",
       "      <td>0400000US02</td>\n",
       "      <td>1477946266785</td>\n",
       "      <td>245390495931</td>\n",
       "      <td>02</td>\n",
       "      <td>00</td>\n",
       "      <td>Alaska</td>\n",
       "      <td>02</td>\n",
       "      <td>01785533</td>\n",
       "      <td>AK</td>\n",
       "      <td>(POLYGON ((-134.737262 58.261354, -134.73441 5...</td>\n",
       "    </tr>\n",
       "    <tr>\n",
       "      <th>2</th>\n",
       "      <td>0400000US04</td>\n",
       "      <td>294198560125</td>\n",
       "      <td>1027346486</td>\n",
       "      <td>04</td>\n",
       "      <td>00</td>\n",
       "      <td>Arizona</td>\n",
       "      <td>04</td>\n",
       "      <td>01779777</td>\n",
       "      <td>AZ</td>\n",
       "      <td>POLYGON ((-114.816294 32.508038, -114.814321 3...</td>\n",
       "    </tr>\n",
       "    <tr>\n",
       "      <th>3</th>\n",
       "      <td>0400000US05</td>\n",
       "      <td>134771517596</td>\n",
       "      <td>2960191698</td>\n",
       "      <td>05</td>\n",
       "      <td>00</td>\n",
       "      <td>Arkansas</td>\n",
       "      <td>05</td>\n",
       "      <td>00068085</td>\n",
       "      <td>AR</td>\n",
       "      <td>POLYGON ((-94.6178329666013 36.4994141203285, ...</td>\n",
       "    </tr>\n",
       "    <tr>\n",
       "      <th>4</th>\n",
       "      <td>0400000US06</td>\n",
       "      <td>403501101370</td>\n",
       "      <td>20466718403</td>\n",
       "      <td>06</td>\n",
       "      <td>00</td>\n",
       "      <td>California</td>\n",
       "      <td>06</td>\n",
       "      <td>01779778</td>\n",
       "      <td>CA</td>\n",
       "      <td>(POLYGON ((-118.604415 33.478552, -118.598783 ...</td>\n",
       "    </tr>\n",
       "  </tbody>\n",
       "</table>\n",
       "</div>"
      ],
      "text/plain": [
       "      AFFGEOID          ALAND        AWATER GEOID LSAD        NAME STATEFP  \\\n",
       "0  0400000US01   131173688951    4593686489    01   00     Alabama      01   \n",
       "1  0400000US02  1477946266785  245390495931    02   00      Alaska      02   \n",
       "2  0400000US04   294198560125    1027346486    04   00     Arizona      04   \n",
       "3  0400000US05   134771517596    2960191698    05   00    Arkansas      05   \n",
       "4  0400000US06   403501101370   20466718403    06   00  California      06   \n",
       "\n",
       "    STATENS STUSPS                                           geometry  \n",
       "0  01779775     AL  (POLYGON ((-88.053375 30.506987, -88.051087999...  \n",
       "1  01785533     AK  (POLYGON ((-134.737262 58.261354, -134.73441 5...  \n",
       "2  01779777     AZ  POLYGON ((-114.816294 32.508038, -114.814321 3...  \n",
       "3  00068085     AR  POLYGON ((-94.6178329666013 36.4994141203285, ...  \n",
       "4  01779778     CA  (POLYGON ((-118.604415 33.478552, -118.598783 ...  "
      ]
     },
     "execution_count": 6,
     "metadata": {},
     "output_type": "execute_result"
    }
   ],
   "source": [
    "states = gpd.read_file(\"cb_2016_us_state_500k/cb_2016_us_state_500k.shp\")\n",
    "states.head()"
   ]
  },
  {
   "cell_type": "code",
   "execution_count": 7,
   "metadata": {},
   "outputs": [
    {
     "data": {
      "text/plain": [
       "{'init': 'epsg:4269'}"
      ]
     },
     "execution_count": 7,
     "metadata": {},
     "output_type": "execute_result"
    }
   ],
   "source": [
    "states.crs"
   ]
  },
  {
   "cell_type": "code",
   "execution_count": 8,
   "metadata": {},
   "outputs": [
    {
     "data": {
      "text/plain": [
       "{'init': 'epsg:4326'}"
      ]
     },
     "execution_count": 8,
     "metadata": {},
     "output_type": "execute_result"
    }
   ],
   "source": [
    "power_plants.crs"
   ]
  },
  {
   "cell_type": "code",
   "execution_count": 9,
   "metadata": {
    "collapsed": true
   },
   "outputs": [],
   "source": [
    "states = states.to_crs(power_plants.crs)"
   ]
  },
  {
   "cell_type": "code",
   "execution_count": 10,
   "metadata": {},
   "outputs": [
    {
     "data": {
      "text/plain": [
       "(-197.09527795, 197.72483894999999, -18.844392050000003, 75.660855050000009)"
      ]
     },
     "execution_count": 10,
     "metadata": {},
     "output_type": "execute_result"
    },
    {
     "data": {
      "image/png": "[encoded data removed]",
      "text/plain": [
       "<matplotlib.figure.Figure at 0x10a7cfd68>"
      ]
     },
     "metadata": {},
     "output_type": "display_data"
    }
   ],
   "source": [
    "ax = states.plot(figsize=(35,20), color='lightgrey', linewidth=0.25, edgecolor='white')\n",
    "power_plants.plot(column='Arithmetic Mean', ax=ax, markeredgewidth=0, cmap='GnBu', markersize=3)\n",
    "ax.axis('off')"
   ]
  }
 ],
 "metadata": {
  "kernelspec": {
   "display_name": "Python 3",
   "language": "python",
   "name": "python3"
  },
  "language_info": {
   "codemirror_mode": {
    "name": "ipython",
    "version": 3
   },
   "file_extension": ".py",
   "mimetype": "text/x-python",
   "name": "python",
   "nbconvert_exporter": "python",
   "pygments_lexer": "ipython3",
   "version": "3.6.1"
  }
 },
 "nbformat": 4,
 "nbformat_minor": 2
}
