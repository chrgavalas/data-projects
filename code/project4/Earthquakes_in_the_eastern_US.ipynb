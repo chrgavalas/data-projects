{
 "cells": [
  {
   "cell_type": "code",
   "execution_count": 2,
   "metadata": {
    "collapsed": true
   },
   "outputs": [],
   "source": [
    "import pandas as pd"
   ]
  },
  {
   "cell_type": "code",
   "execution_count": 3,
   "metadata": {
    "collapsed": true
   },
   "outputs": [],
   "source": [
    "df = pd.read_csv(\"Quakes7009.csv\")"
   ]
  },
  {
   "cell_type": "code",
   "execution_count": 3,
   "metadata": {
    "collapsed": true
   },
   "outputs": [],
   "source": [
    "# Earthquakes of 3.0 or more magnitude in the Central and Eastern US from 1970 to 2009"
   ]
  },
  {
   "cell_type": "code",
   "execution_count": 4,
   "metadata": {},
   "outputs": [
    {
     "data": {
      "text/html": [
       "<div>\n",
       "<style>\n",
       "    .dataframe thead tr:only-child th {\n",
       "        text-align: right;\n",
       "    }\n",
       "\n",
       "    .dataframe thead th {\n",
       "        text-align: left;\n",
       "    }\n",
       "\n",
       "    .dataframe tbody tr th {\n",
       "        vertical-align: top;\n",
       "    }\n",
       "</style>\n",
       "<table border=\"1\" class=\"dataframe\">\n",
       "  <thead>\n",
       "    <tr style=\"text-align: right;\">\n",
       "      <th></th>\n",
       "      <th>time</th>\n",
       "      <th>latitude</th>\n",
       "      <th>longitude</th>\n",
       "      <th>depth</th>\n",
       "      <th>mag</th>\n",
       "      <th>magType</th>\n",
       "      <th>nst</th>\n",
       "      <th>gap</th>\n",
       "      <th>dmin</th>\n",
       "      <th>rms</th>\n",
       "      <th>...</th>\n",
       "      <th>updated</th>\n",
       "      <th>place</th>\n",
       "      <th>type</th>\n",
       "      <th>horizontalError</th>\n",
       "      <th>depthError</th>\n",
       "      <th>magError</th>\n",
       "      <th>magNst</th>\n",
       "      <th>status</th>\n",
       "      <th>locationSource</th>\n",
       "      <th>magSource</th>\n",
       "    </tr>\n",
       "  </thead>\n",
       "  <tbody>\n",
       "    <tr>\n",
       "      <th>0</th>\n",
       "      <td>2009-12-20T05:05:21.340Z</td>\n",
       "      <td>35.554000</td>\n",
       "      <td>-97.267000</td>\n",
       "      <td>5.00</td>\n",
       "      <td>3.10</td>\n",
       "      <td>mblg</td>\n",
       "      <td>9.0</td>\n",
       "      <td>92.7</td>\n",
       "      <td>NaN</td>\n",
       "      <td>1.01</td>\n",
       "      <td>...</td>\n",
       "      <td>2017-06-26T21:08:06.162Z</td>\n",
       "      <td>Oklahoma</td>\n",
       "      <td>earthquake</td>\n",
       "      <td>NaN</td>\n",
       "      <td>NaN</td>\n",
       "      <td>NaN</td>\n",
       "      <td>NaN</td>\n",
       "      <td>reviewed</td>\n",
       "      <td>us</td>\n",
       "      <td>us</td>\n",
       "    </tr>\n",
       "    <tr>\n",
       "      <th>1</th>\n",
       "      <td>2009-12-18T11:38:08.660Z</td>\n",
       "      <td>36.450667</td>\n",
       "      <td>-89.541000</td>\n",
       "      <td>9.06</td>\n",
       "      <td>3.10</td>\n",
       "      <td>md</td>\n",
       "      <td>37.0</td>\n",
       "      <td>54.0</td>\n",
       "      <td>0.05840</td>\n",
       "      <td>0.07</td>\n",
       "      <td>...</td>\n",
       "      <td>2016-04-08T16:26:33.350Z</td>\n",
       "      <td>10km NW of Tiptonville, Tennessee</td>\n",
       "      <td>earthquake</td>\n",
       "      <td>0.20</td>\n",
       "      <td>0.60</td>\n",
       "      <td>0.083</td>\n",
       "      <td>11.0</td>\n",
       "      <td>reviewed</td>\n",
       "      <td>nm</td>\n",
       "      <td>nm</td>\n",
       "    </tr>\n",
       "    <tr>\n",
       "      <th>2</th>\n",
       "      <td>2009-12-17T02:53:42.520Z</td>\n",
       "      <td>40.406000</td>\n",
       "      <td>-95.863000</td>\n",
       "      <td>5.00</td>\n",
       "      <td>3.60</td>\n",
       "      <td>mblg</td>\n",
       "      <td>33.0</td>\n",
       "      <td>29.1</td>\n",
       "      <td>NaN</td>\n",
       "      <td>0.78</td>\n",
       "      <td>...</td>\n",
       "      <td>2015-03-24T01:40:05.005Z</td>\n",
       "      <td>Nebraska</td>\n",
       "      <td>earthquake</td>\n",
       "      <td>NaN</td>\n",
       "      <td>NaN</td>\n",
       "      <td>NaN</td>\n",
       "      <td>NaN</td>\n",
       "      <td>reviewed</td>\n",
       "      <td>us</td>\n",
       "      <td>us</td>\n",
       "    </tr>\n",
       "    <tr>\n",
       "      <th>3</th>\n",
       "      <td>2009-12-13T22:00:50.540Z</td>\n",
       "      <td>42.573167</td>\n",
       "      <td>-74.107667</td>\n",
       "      <td>10.18</td>\n",
       "      <td>3.15</td>\n",
       "      <td>md</td>\n",
       "      <td>21.0</td>\n",
       "      <td>72.0</td>\n",
       "      <td>NaN</td>\n",
       "      <td>0.20</td>\n",
       "      <td>...</td>\n",
       "      <td>2016-08-31T19:34:46.793Z</td>\n",
       "      <td>New York</td>\n",
       "      <td>earthquake</td>\n",
       "      <td>0.26</td>\n",
       "      <td>0.47</td>\n",
       "      <td>NaN</td>\n",
       "      <td>NaN</td>\n",
       "      <td>reviewed</td>\n",
       "      <td>ld</td>\n",
       "      <td>ld</td>\n",
       "    </tr>\n",
       "    <tr>\n",
       "      <th>4</th>\n",
       "      <td>2009-12-13T08:38:25.880Z</td>\n",
       "      <td>35.587000</td>\n",
       "      <td>-97.285000</td>\n",
       "      <td>5.00</td>\n",
       "      <td>3.60</td>\n",
       "      <td>mblg</td>\n",
       "      <td>23.0</td>\n",
       "      <td>59.5</td>\n",
       "      <td>NaN</td>\n",
       "      <td>0.61</td>\n",
       "      <td>...</td>\n",
       "      <td>2017-06-26T21:08:28.690Z</td>\n",
       "      <td>Oklahoma</td>\n",
       "      <td>earthquake</td>\n",
       "      <td>NaN</td>\n",
       "      <td>NaN</td>\n",
       "      <td>NaN</td>\n",
       "      <td>NaN</td>\n",
       "      <td>reviewed</td>\n",
       "      <td>us</td>\n",
       "      <td>us</td>\n",
       "    </tr>\n",
       "    <tr>\n",
       "      <th>5</th>\n",
       "      <td>2009-12-12T11:34:05.450Z</td>\n",
       "      <td>35.556000</td>\n",
       "      <td>-97.316000</td>\n",
       "      <td>5.00</td>\n",
       "      <td>3.10</td>\n",
       "      <td>mblg</td>\n",
       "      <td>12.0</td>\n",
       "      <td>90.6</td>\n",
       "      <td>NaN</td>\n",
       "      <td>0.73</td>\n",
       "      <td>...</td>\n",
       "      <td>2017-06-26T21:08:40.315Z</td>\n",
       "      <td>Oklahoma</td>\n",
       "      <td>earthquake</td>\n",
       "      <td>NaN</td>\n",
       "      <td>NaN</td>\n",
       "      <td>NaN</td>\n",
       "      <td>NaN</td>\n",
       "      <td>reviewed</td>\n",
       "      <td>us</td>\n",
       "      <td>us</td>\n",
       "    </tr>\n",
       "    <tr>\n",
       "      <th>6</th>\n",
       "      <td>2009-12-07T17:44:25.180Z</td>\n",
       "      <td>35.556000</td>\n",
       "      <td>-97.250000</td>\n",
       "      <td>5.00</td>\n",
       "      <td>3.50</td>\n",
       "      <td>mblg</td>\n",
       "      <td>21.0</td>\n",
       "      <td>75.4</td>\n",
       "      <td>NaN</td>\n",
       "      <td>0.73</td>\n",
       "      <td>...</td>\n",
       "      <td>2017-06-26T21:09:03.375Z</td>\n",
       "      <td>Oklahoma</td>\n",
       "      <td>earthquake</td>\n",
       "      <td>NaN</td>\n",
       "      <td>NaN</td>\n",
       "      <td>NaN</td>\n",
       "      <td>NaN</td>\n",
       "      <td>reviewed</td>\n",
       "      <td>us</td>\n",
       "      <td>us</td>\n",
       "    </tr>\n",
       "    <tr>\n",
       "      <th>7</th>\n",
       "      <td>2009-12-07T00:27:26.830Z</td>\n",
       "      <td>33.029333</td>\n",
       "      <td>-83.010833</td>\n",
       "      <td>6.87</td>\n",
       "      <td>3.20</td>\n",
       "      <td>mlg</td>\n",
       "      <td>24.0</td>\n",
       "      <td>105.0</td>\n",
       "      <td>NaN</td>\n",
       "      <td>0.29</td>\n",
       "      <td>...</td>\n",
       "      <td>2016-04-08T16:39:41.620Z</td>\n",
       "      <td>19km WNW of Sandersville, Georgia</td>\n",
       "      <td>earthquake</td>\n",
       "      <td>2.00</td>\n",
       "      <td>3.30</td>\n",
       "      <td>0.324</td>\n",
       "      <td>1.0</td>\n",
       "      <td>reviewed</td>\n",
       "      <td>se</td>\n",
       "      <td>se</td>\n",
       "    </tr>\n",
       "    <tr>\n",
       "      <th>8</th>\n",
       "      <td>2009-11-29T01:36:58.630Z</td>\n",
       "      <td>35.563000</td>\n",
       "      <td>-97.275000</td>\n",
       "      <td>5.00</td>\n",
       "      <td>3.00</td>\n",
       "      <td>mblg</td>\n",
       "      <td>14.0</td>\n",
       "      <td>77.7</td>\n",
       "      <td>NaN</td>\n",
       "      <td>0.92</td>\n",
       "      <td>...</td>\n",
       "      <td>2017-06-26T21:09:15.327Z</td>\n",
       "      <td>Oklahoma</td>\n",
       "      <td>earthquake</td>\n",
       "      <td>NaN</td>\n",
       "      <td>NaN</td>\n",
       "      <td>NaN</td>\n",
       "      <td>NaN</td>\n",
       "      <td>reviewed</td>\n",
       "      <td>us</td>\n",
       "      <td>us</td>\n",
       "    </tr>\n",
       "    <tr>\n",
       "      <th>9</th>\n",
       "      <td>2009-11-17T04:00:17.770Z</td>\n",
       "      <td>34.462000</td>\n",
       "      <td>-97.532000</td>\n",
       "      <td>5.00</td>\n",
       "      <td>3.10</td>\n",
       "      <td>mblg</td>\n",
       "      <td>18.0</td>\n",
       "      <td>74.4</td>\n",
       "      <td>NaN</td>\n",
       "      <td>1.26</td>\n",
       "      <td>...</td>\n",
       "      <td>2017-06-26T21:09:38.168Z</td>\n",
       "      <td>Oklahoma</td>\n",
       "      <td>earthquake</td>\n",
       "      <td>NaN</td>\n",
       "      <td>NaN</td>\n",
       "      <td>NaN</td>\n",
       "      <td>NaN</td>\n",
       "      <td>reviewed</td>\n",
       "      <td>us</td>\n",
       "      <td>us</td>\n",
       "    </tr>\n",
       "    <tr>\n",
       "      <th>10</th>\n",
       "      <td>2009-11-16T11:12:37.140Z</td>\n",
       "      <td>35.482000</td>\n",
       "      <td>-97.228000</td>\n",
       "      <td>5.00</td>\n",
       "      <td>3.00</td>\n",
       "      <td>mblg</td>\n",
       "      <td>11.0</td>\n",
       "      <td>77.0</td>\n",
       "      <td>NaN</td>\n",
       "      <td>1.00</td>\n",
       "      <td>...</td>\n",
       "      <td>2017-06-26T21:09:49.414Z</td>\n",
       "      <td>Oklahoma</td>\n",
       "      <td>earthquake</td>\n",
       "      <td>NaN</td>\n",
       "      <td>NaN</td>\n",
       "      <td>NaN</td>\n",
       "      <td>NaN</td>\n",
       "      <td>reviewed</td>\n",
       "      <td>us</td>\n",
       "      <td>us</td>\n",
       "    </tr>\n",
       "    <tr>\n",
       "      <th>11</th>\n",
       "      <td>2009-11-14T11:13:01.340Z</td>\n",
       "      <td>35.494000</td>\n",
       "      <td>-97.204000</td>\n",
       "      <td>5.00</td>\n",
       "      <td>3.10</td>\n",
       "      <td>mblg</td>\n",
       "      <td>13.0</td>\n",
       "      <td>77.0</td>\n",
       "      <td>NaN</td>\n",
       "      <td>0.92</td>\n",
       "      <td>...</td>\n",
       "      <td>2017-06-26T21:10:01.036Z</td>\n",
       "      <td>Oklahoma</td>\n",
       "      <td>earthquake</td>\n",
       "      <td>NaN</td>\n",
       "      <td>NaN</td>\n",
       "      <td>NaN</td>\n",
       "      <td>NaN</td>\n",
       "      <td>reviewed</td>\n",
       "      <td>us</td>\n",
       "      <td>us</td>\n",
       "    </tr>\n",
       "    <tr>\n",
       "      <th>12</th>\n",
       "      <td>2009-11-06T06:12:39.770Z</td>\n",
       "      <td>36.088500</td>\n",
       "      <td>-89.401833</td>\n",
       "      <td>9.32</td>\n",
       "      <td>3.40</td>\n",
       "      <td>mlg</td>\n",
       "      <td>38.0</td>\n",
       "      <td>40.0</td>\n",
       "      <td>0.02017</td>\n",
       "      <td>0.06</td>\n",
       "      <td>...</td>\n",
       "      <td>2016-04-08T16:22:29.130Z</td>\n",
       "      <td>6km NNW of Dyersburg, Tennessee</td>\n",
       "      <td>earthquake</td>\n",
       "      <td>0.30</td>\n",
       "      <td>0.60</td>\n",
       "      <td>0.175</td>\n",
       "      <td>8.0</td>\n",
       "      <td>reviewed</td>\n",
       "      <td>nm</td>\n",
       "      <td>nm</td>\n",
       "    </tr>\n",
       "    <tr>\n",
       "      <th>13</th>\n",
       "      <td>2009-11-02T03:16:45.290Z</td>\n",
       "      <td>46.108333</td>\n",
       "      <td>-74.752833</td>\n",
       "      <td>3.92</td>\n",
       "      <td>3.59</td>\n",
       "      <td>md</td>\n",
       "      <td>21.0</td>\n",
       "      <td>106.0</td>\n",
       "      <td>0.17750</td>\n",
       "      <td>0.18</td>\n",
       "      <td>...</td>\n",
       "      <td>2016-08-31T19:28:41.644Z</td>\n",
       "      <td>southern Quebec, Canada</td>\n",
       "      <td>earthquake</td>\n",
       "      <td>0.24</td>\n",
       "      <td>0.58</td>\n",
       "      <td>NaN</td>\n",
       "      <td>NaN</td>\n",
       "      <td>reviewed</td>\n",
       "      <td>ld</td>\n",
       "      <td>ld</td>\n",
       "    </tr>\n",
       "    <tr>\n",
       "      <th>14</th>\n",
       "      <td>2009-11-01T17:01:26.310Z</td>\n",
       "      <td>35.136833</td>\n",
       "      <td>-84.854333</td>\n",
       "      <td>24.51</td>\n",
       "      <td>3.00</td>\n",
       "      <td>mlg</td>\n",
       "      <td>24.0</td>\n",
       "      <td>63.0</td>\n",
       "      <td>NaN</td>\n",
       "      <td>0.15</td>\n",
       "      <td>...</td>\n",
       "      <td>2016-04-08T16:38:07.290Z</td>\n",
       "      <td>1km ESE of South Cleveland, Tennessee</td>\n",
       "      <td>earthquake</td>\n",
       "      <td>0.40</td>\n",
       "      <td>1.00</td>\n",
       "      <td>0.802</td>\n",
       "      <td>7.0</td>\n",
       "      <td>reviewed</td>\n",
       "      <td>se</td>\n",
       "      <td>se</td>\n",
       "    </tr>\n",
       "    <tr>\n",
       "      <th>15</th>\n",
       "      <td>2009-10-23T03:56:29.730Z</td>\n",
       "      <td>35.804000</td>\n",
       "      <td>-97.029000</td>\n",
       "      <td>5.00</td>\n",
       "      <td>3.00</td>\n",
       "      <td>mblg</td>\n",
       "      <td>19.0</td>\n",
       "      <td>72.5</td>\n",
       "      <td>NaN</td>\n",
       "      <td>0.80</td>\n",
       "      <td>...</td>\n",
       "      <td>2017-06-26T21:10:22.985Z</td>\n",
       "      <td>Oklahoma</td>\n",
       "      <td>earthquake</td>\n",
       "      <td>NaN</td>\n",
       "      <td>NaN</td>\n",
       "      <td>NaN</td>\n",
       "      <td>NaN</td>\n",
       "      <td>reviewed</td>\n",
       "      <td>us</td>\n",
       "      <td>us</td>\n",
       "    </tr>\n",
       "    <tr>\n",
       "      <th>16</th>\n",
       "      <td>2009-10-15T18:53:23.000Z</td>\n",
       "      <td>35.247333</td>\n",
       "      <td>-92.394833</td>\n",
       "      <td>0.00</td>\n",
       "      <td>3.00</td>\n",
       "      <td>mlg</td>\n",
       "      <td>14.0</td>\n",
       "      <td>171.0</td>\n",
       "      <td>NaN</td>\n",
       "      <td>0.22</td>\n",
       "      <td>...</td>\n",
       "      <td>2016-04-08T16:19:42.110Z</td>\n",
       "      <td>1km NNW of Greenbrier, Arkansas</td>\n",
       "      <td>earthquake</td>\n",
       "      <td>3.90</td>\n",
       "      <td>3.50</td>\n",
       "      <td>0.257</td>\n",
       "      <td>7.0</td>\n",
       "      <td>reviewed</td>\n",
       "      <td>nm</td>\n",
       "      <td>nm</td>\n",
       "    </tr>\n",
       "    <tr>\n",
       "      <th>17</th>\n",
       "      <td>2009-10-03T06:04:32.620Z</td>\n",
       "      <td>45.967000</td>\n",
       "      <td>-77.018000</td>\n",
       "      <td>18.00</td>\n",
       "      <td>3.10</td>\n",
       "      <td>mblg</td>\n",
       "      <td>22.0</td>\n",
       "      <td>109.7</td>\n",
       "      <td>NaN</td>\n",
       "      <td>NaN</td>\n",
       "      <td>...</td>\n",
       "      <td>2015-01-31T04:25:11.387Z</td>\n",
       "      <td>southern Ontario, Canada</td>\n",
       "      <td>earthquake</td>\n",
       "      <td>NaN</td>\n",
       "      <td>NaN</td>\n",
       "      <td>NaN</td>\n",
       "      <td>NaN</td>\n",
       "      <td>reviewed</td>\n",
       "      <td>ott</td>\n",
       "      <td>ott</td>\n",
       "    </tr>\n",
       "    <tr>\n",
       "      <th>18</th>\n",
       "      <td>2009-08-31T14:07:10.230Z</td>\n",
       "      <td>35.778000</td>\n",
       "      <td>-84.123833</td>\n",
       "      <td>14.25</td>\n",
       "      <td>3.30</td>\n",
       "      <td>md</td>\n",
       "      <td>24.0</td>\n",
       "      <td>79.0</td>\n",
       "      <td>NaN</td>\n",
       "      <td>0.15</td>\n",
       "      <td>...</td>\n",
       "      <td>2016-04-08T16:35:55.100Z</td>\n",
       "      <td>8km SW of Louisville, Tennessee</td>\n",
       "      <td>earthquake</td>\n",
       "      <td>0.30</td>\n",
       "      <td>0.60</td>\n",
       "      <td>0.064</td>\n",
       "      <td>6.0</td>\n",
       "      <td>reviewed</td>\n",
       "      <td>se</td>\n",
       "      <td>se</td>\n",
       "    </tr>\n",
       "    <tr>\n",
       "      <th>19</th>\n",
       "      <td>2009-08-29T10:37:13.700Z</td>\n",
       "      <td>33.033000</td>\n",
       "      <td>-80.158667</td>\n",
       "      <td>4.93</td>\n",
       "      <td>3.20</td>\n",
       "      <td>mlg</td>\n",
       "      <td>14.0</td>\n",
       "      <td>122.0</td>\n",
       "      <td>NaN</td>\n",
       "      <td>0.17</td>\n",
       "      <td>...</td>\n",
       "      <td>2016-04-08T16:35:36.160Z</td>\n",
       "      <td>2km NE of Summerville, South Carolina</td>\n",
       "      <td>earthquake</td>\n",
       "      <td>0.60</td>\n",
       "      <td>1.00</td>\n",
       "      <td>NaN</td>\n",
       "      <td>NaN</td>\n",
       "      <td>reviewed</td>\n",
       "      <td>se</td>\n",
       "      <td>se</td>\n",
       "    </tr>\n",
       "    <tr>\n",
       "      <th>20</th>\n",
       "      <td>2009-08-28T02:09:06.000Z</td>\n",
       "      <td>35.565000</td>\n",
       "      <td>-97.290000</td>\n",
       "      <td>5.00</td>\n",
       "      <td>3.50</td>\n",
       "      <td>mblg</td>\n",
       "      <td>4.0</td>\n",
       "      <td>132.1</td>\n",
       "      <td>NaN</td>\n",
       "      <td>NaN</td>\n",
       "      <td>...</td>\n",
       "      <td>2017-06-26T21:10:45.137Z</td>\n",
       "      <td>Oklahoma</td>\n",
       "      <td>earthquake</td>\n",
       "      <td>NaN</td>\n",
       "      <td>NaN</td>\n",
       "      <td>NaN</td>\n",
       "      <td>NaN</td>\n",
       "      <td>reviewed</td>\n",
       "      <td>macr</td>\n",
       "      <td>us</td>\n",
       "    </tr>\n",
       "    <tr>\n",
       "      <th>21</th>\n",
       "      <td>2009-08-27T08:22:14.530Z</td>\n",
       "      <td>34.942000</td>\n",
       "      <td>-96.618000</td>\n",
       "      <td>5.00</td>\n",
       "      <td>3.40</td>\n",
       "      <td>mblg</td>\n",
       "      <td>31.0</td>\n",
       "      <td>39.8</td>\n",
       "      <td>NaN</td>\n",
       "      <td>1.18</td>\n",
       "      <td>...</td>\n",
       "      <td>2017-06-26T21:11:18.021Z</td>\n",
       "      <td>Oklahoma</td>\n",
       "      <td>earthquake</td>\n",
       "      <td>NaN</td>\n",
       "      <td>NaN</td>\n",
       "      <td>NaN</td>\n",
       "      <td>NaN</td>\n",
       "      <td>reviewed</td>\n",
       "      <td>us</td>\n",
       "      <td>tul</td>\n",
       "    </tr>\n",
       "    <tr>\n",
       "      <th>22</th>\n",
       "      <td>2009-08-01T13:38:26.110Z</td>\n",
       "      <td>35.063500</td>\n",
       "      <td>-84.292333</td>\n",
       "      <td>5.40</td>\n",
       "      <td>3.20</td>\n",
       "      <td>mlg</td>\n",
       "      <td>28.0</td>\n",
       "      <td>75.0</td>\n",
       "      <td>NaN</td>\n",
       "      <td>0.09</td>\n",
       "      <td>...</td>\n",
       "      <td>2016-04-08T16:34:45.230Z</td>\n",
       "      <td>11km NE of McCaysville, Georgia</td>\n",
       "      <td>earthquake</td>\n",
       "      <td>0.40</td>\n",
       "      <td>1.40</td>\n",
       "      <td>0.554</td>\n",
       "      <td>7.0</td>\n",
       "      <td>reviewed</td>\n",
       "      <td>se</td>\n",
       "      <td>se</td>\n",
       "    </tr>\n",
       "    <tr>\n",
       "      <th>23</th>\n",
       "      <td>2009-07-22T02:25:59.800Z</td>\n",
       "      <td>35.742000</td>\n",
       "      <td>-96.944000</td>\n",
       "      <td>5.00</td>\n",
       "      <td>3.30</td>\n",
       "      <td>mblg</td>\n",
       "      <td>16.0</td>\n",
       "      <td>76.5</td>\n",
       "      <td>NaN</td>\n",
       "      <td>0.80</td>\n",
       "      <td>...</td>\n",
       "      <td>2017-06-26T21:11:40.624Z</td>\n",
       "      <td>Oklahoma</td>\n",
       "      <td>earthquake</td>\n",
       "      <td>NaN</td>\n",
       "      <td>NaN</td>\n",
       "      <td>NaN</td>\n",
       "      <td>NaN</td>\n",
       "      <td>reviewed</td>\n",
       "      <td>us</td>\n",
       "      <td>us</td>\n",
       "    </tr>\n",
       "    <tr>\n",
       "      <th>24</th>\n",
       "      <td>2009-07-21T14:20:56.350Z</td>\n",
       "      <td>49.725000</td>\n",
       "      <td>-65.706000</td>\n",
       "      <td>13.80</td>\n",
       "      <td>3.50</td>\n",
       "      <td>mwr</td>\n",
       "      <td>13.0</td>\n",
       "      <td>245.9</td>\n",
       "      <td>NaN</td>\n",
       "      <td>NaN</td>\n",
       "      <td>...</td>\n",
       "      <td>2014-11-07T01:39:20.827Z</td>\n",
       "      <td>Gaspe Peninsula, Quebec, Canada</td>\n",
       "      <td>earthquake</td>\n",
       "      <td>NaN</td>\n",
       "      <td>NaN</td>\n",
       "      <td>NaN</td>\n",
       "      <td>NaN</td>\n",
       "      <td>reviewed</td>\n",
       "      <td>ott</td>\n",
       "      <td>us</td>\n",
       "    </tr>\n",
       "    <tr>\n",
       "      <th>25</th>\n",
       "      <td>2009-07-01T17:14:48.240Z</td>\n",
       "      <td>35.547000</td>\n",
       "      <td>-97.169000</td>\n",
       "      <td>5.00</td>\n",
       "      <td>3.40</td>\n",
       "      <td>mblg</td>\n",
       "      <td>10.0</td>\n",
       "      <td>96.7</td>\n",
       "      <td>NaN</td>\n",
       "      <td>1.23</td>\n",
       "      <td>...</td>\n",
       "      <td>2017-06-26T21:11:52.465Z</td>\n",
       "      <td>Oklahoma</td>\n",
       "      <td>earthquake</td>\n",
       "      <td>NaN</td>\n",
       "      <td>NaN</td>\n",
       "      <td>NaN</td>\n",
       "      <td>NaN</td>\n",
       "      <td>reviewed</td>\n",
       "      <td>us</td>\n",
       "      <td>tul</td>\n",
       "    </tr>\n",
       "    <tr>\n",
       "      <th>26</th>\n",
       "      <td>2009-06-26T21:23:13.750Z</td>\n",
       "      <td>36.361000</td>\n",
       "      <td>-97.467000</td>\n",
       "      <td>5.00</td>\n",
       "      <td>3.70</td>\n",
       "      <td>mblg</td>\n",
       "      <td>26.0</td>\n",
       "      <td>76.3</td>\n",
       "      <td>NaN</td>\n",
       "      <td>1.05</td>\n",
       "      <td>...</td>\n",
       "      <td>2017-06-26T21:12:04.323Z</td>\n",
       "      <td>Oklahoma</td>\n",
       "      <td>earthquake</td>\n",
       "      <td>NaN</td>\n",
       "      <td>NaN</td>\n",
       "      <td>NaN</td>\n",
       "      <td>NaN</td>\n",
       "      <td>reviewed</td>\n",
       "      <td>us</td>\n",
       "      <td>us</td>\n",
       "    </tr>\n",
       "    <tr>\n",
       "      <th>27</th>\n",
       "      <td>2009-06-14T21:31:09.020Z</td>\n",
       "      <td>35.659000</td>\n",
       "      <td>-96.850000</td>\n",
       "      <td>5.00</td>\n",
       "      <td>3.40</td>\n",
       "      <td>mblg</td>\n",
       "      <td>9.0</td>\n",
       "      <td>94.9</td>\n",
       "      <td>NaN</td>\n",
       "      <td>0.92</td>\n",
       "      <td>...</td>\n",
       "      <td>2017-06-26T21:12:26.553Z</td>\n",
       "      <td>Oklahoma</td>\n",
       "      <td>earthquake</td>\n",
       "      <td>NaN</td>\n",
       "      <td>NaN</td>\n",
       "      <td>NaN</td>\n",
       "      <td>NaN</td>\n",
       "      <td>reviewed</td>\n",
       "      <td>us</td>\n",
       "      <td>us</td>\n",
       "    </tr>\n",
       "    <tr>\n",
       "      <th>28</th>\n",
       "      <td>2009-05-28T09:19:24.740Z</td>\n",
       "      <td>45.825500</td>\n",
       "      <td>-75.825833</td>\n",
       "      <td>3.87</td>\n",
       "      <td>3.02</td>\n",
       "      <td>md</td>\n",
       "      <td>20.0</td>\n",
       "      <td>77.0</td>\n",
       "      <td>NaN</td>\n",
       "      <td>0.14</td>\n",
       "      <td>...</td>\n",
       "      <td>2016-05-27T19:27:38.150Z</td>\n",
       "      <td>Ontario-Quebec border region, Canada</td>\n",
       "      <td>earthquake</td>\n",
       "      <td>0.21</td>\n",
       "      <td>0.46</td>\n",
       "      <td>NaN</td>\n",
       "      <td>NaN</td>\n",
       "      <td>reviewed</td>\n",
       "      <td>ld</td>\n",
       "      <td>ld</td>\n",
       "    </tr>\n",
       "    <tr>\n",
       "      <th>29</th>\n",
       "      <td>2009-05-18T00:53:29.930Z</td>\n",
       "      <td>42.571167</td>\n",
       "      <td>-74.111500</td>\n",
       "      <td>8.61</td>\n",
       "      <td>3.05</td>\n",
       "      <td>md</td>\n",
       "      <td>24.0</td>\n",
       "      <td>72.0</td>\n",
       "      <td>NaN</td>\n",
       "      <td>0.21</td>\n",
       "      <td>...</td>\n",
       "      <td>2016-08-31T19:26:15.370Z</td>\n",
       "      <td>New York</td>\n",
       "      <td>earthquake</td>\n",
       "      <td>0.24</td>\n",
       "      <td>0.53</td>\n",
       "      <td>NaN</td>\n",
       "      <td>NaN</td>\n",
       "      <td>reviewed</td>\n",
       "      <td>ld</td>\n",
       "      <td>ld</td>\n",
       "    </tr>\n",
       "    <tr>\n",
       "      <th>...</th>\n",
       "      <td>...</td>\n",
       "      <td>...</td>\n",
       "      <td>...</td>\n",
       "      <td>...</td>\n",
       "      <td>...</td>\n",
       "      <td>...</td>\n",
       "      <td>...</td>\n",
       "      <td>...</td>\n",
       "      <td>...</td>\n",
       "      <td>...</td>\n",
       "      <td>...</td>\n",
       "      <td>...</td>\n",
       "      <td>...</td>\n",
       "      <td>...</td>\n",
       "      <td>...</td>\n",
       "      <td>...</td>\n",
       "      <td>...</td>\n",
       "      <td>...</td>\n",
       "      <td>...</td>\n",
       "      <td>...</td>\n",
       "      <td>...</td>\n",
       "    </tr>\n",
       "    <tr>\n",
       "      <th>884</th>\n",
       "      <td>1974-10-28T11:33:00.000Z</td>\n",
       "      <td>33.790000</td>\n",
       "      <td>-81.920000</td>\n",
       "      <td>NaN</td>\n",
       "      <td>3.00</td>\n",
       "      <td>ml</td>\n",
       "      <td>NaN</td>\n",
       "      <td>NaN</td>\n",
       "      <td>NaN</td>\n",
       "      <td>NaN</td>\n",
       "      <td>...</td>\n",
       "      <td>2014-11-06T23:21:27.052Z</td>\n",
       "      <td>South Carolina</td>\n",
       "      <td>earthquake</td>\n",
       "      <td>NaN</td>\n",
       "      <td>NaN</td>\n",
       "      <td>NaN</td>\n",
       "      <td>NaN</td>\n",
       "      <td>reviewed</td>\n",
       "      <td>m</td>\n",
       "      <td>csc</td>\n",
       "    </tr>\n",
       "    <tr>\n",
       "      <th>885</th>\n",
       "      <td>1974-10-20T15:13:55.100Z</td>\n",
       "      <td>39.095000</td>\n",
       "      <td>-81.593000</td>\n",
       "      <td>11.00</td>\n",
       "      <td>3.40</td>\n",
       "      <td>lg</td>\n",
       "      <td>NaN</td>\n",
       "      <td>NaN</td>\n",
       "      <td>NaN</td>\n",
       "      <td>NaN</td>\n",
       "      <td>...</td>\n",
       "      <td>2014-11-06T23:21:26.936Z</td>\n",
       "      <td>West Virginia</td>\n",
       "      <td>earthquake</td>\n",
       "      <td>NaN</td>\n",
       "      <td>NaN</td>\n",
       "      <td>NaN</td>\n",
       "      <td>NaN</td>\n",
       "      <td>reviewed</td>\n",
       "      <td>s</td>\n",
       "      <td>slm</td>\n",
       "    </tr>\n",
       "    <tr>\n",
       "      <th>886</th>\n",
       "      <td>1974-09-29T02:26:17.100Z</td>\n",
       "      <td>41.238000</td>\n",
       "      <td>-83.361000</td>\n",
       "      <td>1.00</td>\n",
       "      <td>3.00</td>\n",
       "      <td>lg</td>\n",
       "      <td>NaN</td>\n",
       "      <td>NaN</td>\n",
       "      <td>NaN</td>\n",
       "      <td>NaN</td>\n",
       "      <td>...</td>\n",
       "      <td>2014-11-06T23:21:26.599Z</td>\n",
       "      <td>Ohio</td>\n",
       "      <td>earthquake</td>\n",
       "      <td>NaN</td>\n",
       "      <td>NaN</td>\n",
       "      <td>NaN</td>\n",
       "      <td>NaN</td>\n",
       "      <td>reviewed</td>\n",
       "      <td>s</td>\n",
       "      <td>slm</td>\n",
       "    </tr>\n",
       "    <tr>\n",
       "      <th>887</th>\n",
       "      <td>1974-08-11T14:29:43.800Z</td>\n",
       "      <td>36.820000</td>\n",
       "      <td>-91.290000</td>\n",
       "      <td>5.00</td>\n",
       "      <td>3.60</td>\n",
       "      <td>mlg</td>\n",
       "      <td>NaN</td>\n",
       "      <td>NaN</td>\n",
       "      <td>NaN</td>\n",
       "      <td>NaN</td>\n",
       "      <td>...</td>\n",
       "      <td>2016-04-14T12:33:55.917Z</td>\n",
       "      <td>17km NE of Alton, Missouri</td>\n",
       "      <td>earthquake</td>\n",
       "      <td>NaN</td>\n",
       "      <td>NaN</td>\n",
       "      <td>NaN</td>\n",
       "      <td>NaN</td>\n",
       "      <td>reviewed</td>\n",
       "      <td>nm</td>\n",
       "      <td>nm</td>\n",
       "    </tr>\n",
       "    <tr>\n",
       "      <th>888</th>\n",
       "      <td>1974-08-02T08:52:09.800Z</td>\n",
       "      <td>33.872000</td>\n",
       "      <td>-82.488000</td>\n",
       "      <td>1.00</td>\n",
       "      <td>4.30</td>\n",
       "      <td>mb</td>\n",
       "      <td>NaN</td>\n",
       "      <td>NaN</td>\n",
       "      <td>NaN</td>\n",
       "      <td>NaN</td>\n",
       "      <td>...</td>\n",
       "      <td>2017-04-13T21:48:18.459Z</td>\n",
       "      <td>Georgia, USA</td>\n",
       "      <td>earthquake</td>\n",
       "      <td>NaN</td>\n",
       "      <td>NaN</td>\n",
       "      <td>NaN</td>\n",
       "      <td>NaN</td>\n",
       "      <td>reviewed</td>\n",
       "      <td>s</td>\n",
       "      <td>us</td>\n",
       "    </tr>\n",
       "    <tr>\n",
       "      <th>889</th>\n",
       "      <td>1974-06-07T19:45:36.800Z</td>\n",
       "      <td>41.571000</td>\n",
       "      <td>-73.940000</td>\n",
       "      <td>2.00</td>\n",
       "      <td>3.30</td>\n",
       "      <td>ml</td>\n",
       "      <td>NaN</td>\n",
       "      <td>NaN</td>\n",
       "      <td>NaN</td>\n",
       "      <td>NaN</td>\n",
       "      <td>...</td>\n",
       "      <td>2014-11-06T23:21:24.588Z</td>\n",
       "      <td>New York</td>\n",
       "      <td>earthquake</td>\n",
       "      <td>NaN</td>\n",
       "      <td>NaN</td>\n",
       "      <td>NaN</td>\n",
       "      <td>NaN</td>\n",
       "      <td>reviewed</td>\n",
       "      <td>l</td>\n",
       "      <td>pal</td>\n",
       "    </tr>\n",
       "    <tr>\n",
       "      <th>890</th>\n",
       "      <td>1974-06-05T08:06:11.300Z</td>\n",
       "      <td>38.620000</td>\n",
       "      <td>-89.940000</td>\n",
       "      <td>11.00</td>\n",
       "      <td>4.00</td>\n",
       "      <td>mb</td>\n",
       "      <td>NaN</td>\n",
       "      <td>NaN</td>\n",
       "      <td>NaN</td>\n",
       "      <td>NaN</td>\n",
       "      <td>...</td>\n",
       "      <td>2014-11-06T23:21:24.545Z</td>\n",
       "      <td>Illinois</td>\n",
       "      <td>earthquake</td>\n",
       "      <td>NaN</td>\n",
       "      <td>NaN</td>\n",
       "      <td>NaN</td>\n",
       "      <td>NaN</td>\n",
       "      <td>reviewed</td>\n",
       "      <td>j</td>\n",
       "      <td>us</td>\n",
       "    </tr>\n",
       "    <tr>\n",
       "      <th>891</th>\n",
       "      <td>1974-06-05T00:16:40.400Z</td>\n",
       "      <td>38.600000</td>\n",
       "      <td>-84.770000</td>\n",
       "      <td>15.00</td>\n",
       "      <td>3.20</td>\n",
       "      <td>lg</td>\n",
       "      <td>NaN</td>\n",
       "      <td>NaN</td>\n",
       "      <td>NaN</td>\n",
       "      <td>NaN</td>\n",
       "      <td>...</td>\n",
       "      <td>2014-11-06T23:21:24.540Z</td>\n",
       "      <td>eastern Kentucky</td>\n",
       "      <td>earthquake</td>\n",
       "      <td>NaN</td>\n",
       "      <td>NaN</td>\n",
       "      <td>NaN</td>\n",
       "      <td>NaN</td>\n",
       "      <td>reviewed</td>\n",
       "      <td>j</td>\n",
       "      <td>slm</td>\n",
       "    </tr>\n",
       "    <tr>\n",
       "      <th>892</th>\n",
       "      <td>1974-05-30T21:28:37.200Z</td>\n",
       "      <td>37.382000</td>\n",
       "      <td>-80.419000</td>\n",
       "      <td>8.00</td>\n",
       "      <td>3.60</td>\n",
       "      <td>lg</td>\n",
       "      <td>NaN</td>\n",
       "      <td>NaN</td>\n",
       "      <td>NaN</td>\n",
       "      <td>NaN</td>\n",
       "      <td>...</td>\n",
       "      <td>2014-11-06T23:21:24.462Z</td>\n",
       "      <td>West Virginia</td>\n",
       "      <td>earthquake</td>\n",
       "      <td>NaN</td>\n",
       "      <td>NaN</td>\n",
       "      <td>NaN</td>\n",
       "      <td>NaN</td>\n",
       "      <td>reviewed</td>\n",
       "      <td>s</td>\n",
       "      <td>bla</td>\n",
       "    </tr>\n",
       "    <tr>\n",
       "      <th>893</th>\n",
       "      <td>1974-05-13T06:52:18.800Z</td>\n",
       "      <td>36.710000</td>\n",
       "      <td>-89.390000</td>\n",
       "      <td>1.00</td>\n",
       "      <td>4.30</td>\n",
       "      <td>mb</td>\n",
       "      <td>NaN</td>\n",
       "      <td>NaN</td>\n",
       "      <td>NaN</td>\n",
       "      <td>NaN</td>\n",
       "      <td>...</td>\n",
       "      <td>2017-04-13T21:48:10.676Z</td>\n",
       "      <td>Missouri</td>\n",
       "      <td>earthquake</td>\n",
       "      <td>NaN</td>\n",
       "      <td>NaN</td>\n",
       "      <td>NaN</td>\n",
       "      <td>NaN</td>\n",
       "      <td>reviewed</td>\n",
       "      <td>j</td>\n",
       "      <td>us</td>\n",
       "    </tr>\n",
       "    <tr>\n",
       "      <th>894</th>\n",
       "      <td>1974-04-27T14:45:39.100Z</td>\n",
       "      <td>41.004000</td>\n",
       "      <td>-75.955000</td>\n",
       "      <td>3.00</td>\n",
       "      <td>3.00</td>\n",
       "      <td>mb</td>\n",
       "      <td>NaN</td>\n",
       "      <td>NaN</td>\n",
       "      <td>NaN</td>\n",
       "      <td>NaN</td>\n",
       "      <td>...</td>\n",
       "      <td>2014-11-06T23:21:23.962Z</td>\n",
       "      <td>Pennsylvania</td>\n",
       "      <td>earthquake</td>\n",
       "      <td>NaN</td>\n",
       "      <td>NaN</td>\n",
       "      <td>NaN</td>\n",
       "      <td>NaN</td>\n",
       "      <td>reviewed</td>\n",
       "      <td>s</td>\n",
       "      <td>us</td>\n",
       "    </tr>\n",
       "    <tr>\n",
       "      <th>895</th>\n",
       "      <td>1974-04-03T23:05:02.500Z</td>\n",
       "      <td>38.592000</td>\n",
       "      <td>-88.094000</td>\n",
       "      <td>11.00</td>\n",
       "      <td>4.50</td>\n",
       "      <td>mb</td>\n",
       "      <td>NaN</td>\n",
       "      <td>NaN</td>\n",
       "      <td>NaN</td>\n",
       "      <td>NaN</td>\n",
       "      <td>...</td>\n",
       "      <td>2017-04-13T21:48:07.691Z</td>\n",
       "      <td>Illinois</td>\n",
       "      <td>earthquake</td>\n",
       "      <td>NaN</td>\n",
       "      <td>NaN</td>\n",
       "      <td>NaN</td>\n",
       "      <td>NaN</td>\n",
       "      <td>reviewed</td>\n",
       "      <td>us</td>\n",
       "      <td>us</td>\n",
       "    </tr>\n",
       "    <tr>\n",
       "      <th>896</th>\n",
       "      <td>1974-03-12T12:30:28.600Z</td>\n",
       "      <td>35.660000</td>\n",
       "      <td>-89.790000</td>\n",
       "      <td>5.00</td>\n",
       "      <td>3.20</td>\n",
       "      <td>lg</td>\n",
       "      <td>NaN</td>\n",
       "      <td>NaN</td>\n",
       "      <td>NaN</td>\n",
       "      <td>NaN</td>\n",
       "      <td>...</td>\n",
       "      <td>2014-11-06T23:21:23.314Z</td>\n",
       "      <td>Tennessee</td>\n",
       "      <td>earthquake</td>\n",
       "      <td>NaN</td>\n",
       "      <td>NaN</td>\n",
       "      <td>NaN</td>\n",
       "      <td>NaN</td>\n",
       "      <td>reviewed</td>\n",
       "      <td>j</td>\n",
       "      <td>slm</td>\n",
       "    </tr>\n",
       "    <tr>\n",
       "      <th>897</th>\n",
       "      <td>1974-03-04T14:24:27.800Z</td>\n",
       "      <td>35.680000</td>\n",
       "      <td>-90.350000</td>\n",
       "      <td>5.00</td>\n",
       "      <td>3.00</td>\n",
       "      <td>lg</td>\n",
       "      <td>NaN</td>\n",
       "      <td>NaN</td>\n",
       "      <td>NaN</td>\n",
       "      <td>NaN</td>\n",
       "      <td>...</td>\n",
       "      <td>2014-11-06T23:21:23.220Z</td>\n",
       "      <td>Arkansas</td>\n",
       "      <td>earthquake</td>\n",
       "      <td>NaN</td>\n",
       "      <td>NaN</td>\n",
       "      <td>NaN</td>\n",
       "      <td>NaN</td>\n",
       "      <td>reviewed</td>\n",
       "      <td>j</td>\n",
       "      <td>slm</td>\n",
       "    </tr>\n",
       "    <tr>\n",
       "      <th>898</th>\n",
       "      <td>1974-02-24T07:53:45.200Z</td>\n",
       "      <td>35.820000</td>\n",
       "      <td>-90.380000</td>\n",
       "      <td>6.00</td>\n",
       "      <td>3.20</td>\n",
       "      <td>lg</td>\n",
       "      <td>NaN</td>\n",
       "      <td>NaN</td>\n",
       "      <td>NaN</td>\n",
       "      <td>NaN</td>\n",
       "      <td>...</td>\n",
       "      <td>2014-11-06T23:21:22.983Z</td>\n",
       "      <td>Arkansas</td>\n",
       "      <td>earthquake</td>\n",
       "      <td>NaN</td>\n",
       "      <td>NaN</td>\n",
       "      <td>NaN</td>\n",
       "      <td>NaN</td>\n",
       "      <td>reviewed</td>\n",
       "      <td>us</td>\n",
       "      <td>slm</td>\n",
       "    </tr>\n",
       "    <tr>\n",
       "      <th>899</th>\n",
       "      <td>1974-02-15T22:49:01.800Z</td>\n",
       "      <td>33.960000</td>\n",
       "      <td>-93.030000</td>\n",
       "      <td>1.00</td>\n",
       "      <td>3.80</td>\n",
       "      <td>mb</td>\n",
       "      <td>NaN</td>\n",
       "      <td>NaN</td>\n",
       "      <td>NaN</td>\n",
       "      <td>NaN</td>\n",
       "      <td>...</td>\n",
       "      <td>2014-11-06T23:21:22.862Z</td>\n",
       "      <td>Arkansas</td>\n",
       "      <td>earthquake</td>\n",
       "      <td>NaN</td>\n",
       "      <td>NaN</td>\n",
       "      <td>NaN</td>\n",
       "      <td>NaN</td>\n",
       "      <td>reviewed</td>\n",
       "      <td>j</td>\n",
       "      <td>us</td>\n",
       "    </tr>\n",
       "    <tr>\n",
       "      <th>900</th>\n",
       "      <td>1974-02-15T22:35:44.700Z</td>\n",
       "      <td>34.050000</td>\n",
       "      <td>-93.130000</td>\n",
       "      <td>1.00</td>\n",
       "      <td>3.60</td>\n",
       "      <td>lg</td>\n",
       "      <td>NaN</td>\n",
       "      <td>NaN</td>\n",
       "      <td>NaN</td>\n",
       "      <td>NaN</td>\n",
       "      <td>...</td>\n",
       "      <td>2014-11-06T23:21:22.862Z</td>\n",
       "      <td>Arkansas</td>\n",
       "      <td>earthquake</td>\n",
       "      <td>NaN</td>\n",
       "      <td>NaN</td>\n",
       "      <td>NaN</td>\n",
       "      <td>NaN</td>\n",
       "      <td>reviewed</td>\n",
       "      <td>j</td>\n",
       "      <td>slm</td>\n",
       "    </tr>\n",
       "    <tr>\n",
       "      <th>901</th>\n",
       "      <td>1974-02-15T22:32:34.600Z</td>\n",
       "      <td>33.950000</td>\n",
       "      <td>-93.090000</td>\n",
       "      <td>1.00</td>\n",
       "      <td>3.60</td>\n",
       "      <td>lg</td>\n",
       "      <td>NaN</td>\n",
       "      <td>NaN</td>\n",
       "      <td>NaN</td>\n",
       "      <td>NaN</td>\n",
       "      <td>...</td>\n",
       "      <td>2014-11-06T23:21:22.861Z</td>\n",
       "      <td>Arkansas</td>\n",
       "      <td>earthquake</td>\n",
       "      <td>NaN</td>\n",
       "      <td>NaN</td>\n",
       "      <td>NaN</td>\n",
       "      <td>NaN</td>\n",
       "      <td>reviewed</td>\n",
       "      <td>j</td>\n",
       "      <td>slm</td>\n",
       "    </tr>\n",
       "    <tr>\n",
       "      <th>902</th>\n",
       "      <td>1974-01-08T01:12:37.400Z</td>\n",
       "      <td>36.200000</td>\n",
       "      <td>-89.390000</td>\n",
       "      <td>1.00</td>\n",
       "      <td>4.10</td>\n",
       "      <td>mb</td>\n",
       "      <td>NaN</td>\n",
       "      <td>NaN</td>\n",
       "      <td>NaN</td>\n",
       "      <td>NaN</td>\n",
       "      <td>...</td>\n",
       "      <td>2014-11-06T23:21:22.320Z</td>\n",
       "      <td>Tennessee</td>\n",
       "      <td>earthquake</td>\n",
       "      <td>NaN</td>\n",
       "      <td>NaN</td>\n",
       "      <td>NaN</td>\n",
       "      <td>NaN</td>\n",
       "      <td>reviewed</td>\n",
       "      <td>j</td>\n",
       "      <td>us</td>\n",
       "    </tr>\n",
       "    <tr>\n",
       "      <th>903</th>\n",
       "      <td>1973-12-20T10:45:00.100Z</td>\n",
       "      <td>36.157000</td>\n",
       "      <td>-89.580000</td>\n",
       "      <td>10.00</td>\n",
       "      <td>3.40</td>\n",
       "      <td>lg</td>\n",
       "      <td>NaN</td>\n",
       "      <td>NaN</td>\n",
       "      <td>NaN</td>\n",
       "      <td>NaN</td>\n",
       "      <td>...</td>\n",
       "      <td>2014-11-06T23:21:21.906Z</td>\n",
       "      <td>Tennessee</td>\n",
       "      <td>earthquake</td>\n",
       "      <td>NaN</td>\n",
       "      <td>NaN</td>\n",
       "      <td>NaN</td>\n",
       "      <td>NaN</td>\n",
       "      <td>reviewed</td>\n",
       "      <td>j</td>\n",
       "      <td>slm</td>\n",
       "    </tr>\n",
       "    <tr>\n",
       "      <th>904</th>\n",
       "      <td>1973-11-30T07:48:41.200Z</td>\n",
       "      <td>35.799000</td>\n",
       "      <td>-83.962000</td>\n",
       "      <td>3.00</td>\n",
       "      <td>4.70</td>\n",
       "      <td>mb</td>\n",
       "      <td>NaN</td>\n",
       "      <td>NaN</td>\n",
       "      <td>NaN</td>\n",
       "      <td>NaN</td>\n",
       "      <td>...</td>\n",
       "      <td>2017-04-26T17:27:15.800Z</td>\n",
       "      <td>eastern Tennessee</td>\n",
       "      <td>earthquake</td>\n",
       "      <td>NaN</td>\n",
       "      <td>NaN</td>\n",
       "      <td>NaN</td>\n",
       "      <td>NaN</td>\n",
       "      <td>reviewed</td>\n",
       "      <td>s</td>\n",
       "      <td>us</td>\n",
       "    </tr>\n",
       "    <tr>\n",
       "      <th>905</th>\n",
       "      <td>1973-10-30T22:58:39.000Z</td>\n",
       "      <td>35.750000</td>\n",
       "      <td>-84.000000</td>\n",
       "      <td>33.00</td>\n",
       "      <td>3.40</td>\n",
       "      <td>lg</td>\n",
       "      <td>NaN</td>\n",
       "      <td>NaN</td>\n",
       "      <td>NaN</td>\n",
       "      <td>NaN</td>\n",
       "      <td>...</td>\n",
       "      <td>2014-11-06T23:21:21.092Z</td>\n",
       "      <td>eastern Tennessee</td>\n",
       "      <td>earthquake</td>\n",
       "      <td>NaN</td>\n",
       "      <td>NaN</td>\n",
       "      <td>NaN</td>\n",
       "      <td>NaN</td>\n",
       "      <td>reviewed</td>\n",
       "      <td>m</td>\n",
       "      <td>gs</td>\n",
       "    </tr>\n",
       "    <tr>\n",
       "      <th>906</th>\n",
       "      <td>1973-10-09T20:15:26.800Z</td>\n",
       "      <td>36.510000</td>\n",
       "      <td>-89.610000</td>\n",
       "      <td>1.00</td>\n",
       "      <td>3.80</td>\n",
       "      <td>lg</td>\n",
       "      <td>NaN</td>\n",
       "      <td>NaN</td>\n",
       "      <td>NaN</td>\n",
       "      <td>NaN</td>\n",
       "      <td>...</td>\n",
       "      <td>2014-11-06T23:21:20.747Z</td>\n",
       "      <td>Missouri</td>\n",
       "      <td>earthquake</td>\n",
       "      <td>NaN</td>\n",
       "      <td>NaN</td>\n",
       "      <td>NaN</td>\n",
       "      <td>NaN</td>\n",
       "      <td>reviewed</td>\n",
       "      <td>j</td>\n",
       "      <td>slm</td>\n",
       "    </tr>\n",
       "    <tr>\n",
       "      <th>907</th>\n",
       "      <td>1973-10-03T03:50:20.400Z</td>\n",
       "      <td>35.910000</td>\n",
       "      <td>-90.000000</td>\n",
       "      <td>10.00</td>\n",
       "      <td>3.40</td>\n",
       "      <td>lg</td>\n",
       "      <td>NaN</td>\n",
       "      <td>NaN</td>\n",
       "      <td>NaN</td>\n",
       "      <td>NaN</td>\n",
       "      <td>...</td>\n",
       "      <td>2014-11-06T23:21:20.614Z</td>\n",
       "      <td>Arkansas</td>\n",
       "      <td>earthquake</td>\n",
       "      <td>NaN</td>\n",
       "      <td>NaN</td>\n",
       "      <td>NaN</td>\n",
       "      <td>NaN</td>\n",
       "      <td>reviewed</td>\n",
       "      <td>j</td>\n",
       "      <td>slm</td>\n",
       "    </tr>\n",
       "    <tr>\n",
       "      <th>908</th>\n",
       "      <td>1973-07-15T10:32:37.700Z</td>\n",
       "      <td>43.900000</td>\n",
       "      <td>-74.412000</td>\n",
       "      <td>1.00</td>\n",
       "      <td>3.40</td>\n",
       "      <td>mb</td>\n",
       "      <td>NaN</td>\n",
       "      <td>NaN</td>\n",
       "      <td>NaN</td>\n",
       "      <td>NaN</td>\n",
       "      <td>...</td>\n",
       "      <td>2014-11-06T23:21:14.828Z</td>\n",
       "      <td>New York</td>\n",
       "      <td>earthquake</td>\n",
       "      <td>NaN</td>\n",
       "      <td>NaN</td>\n",
       "      <td>NaN</td>\n",
       "      <td>NaN</td>\n",
       "      <td>reviewed</td>\n",
       "      <td>s</td>\n",
       "      <td>us</td>\n",
       "    </tr>\n",
       "    <tr>\n",
       "      <th>909</th>\n",
       "      <td>1973-06-15T01:09:04.200Z</td>\n",
       "      <td>45.317000</td>\n",
       "      <td>-70.908000</td>\n",
       "      <td>12.00</td>\n",
       "      <td>4.80</td>\n",
       "      <td>mb</td>\n",
       "      <td>NaN</td>\n",
       "      <td>NaN</td>\n",
       "      <td>NaN</td>\n",
       "      <td>NaN</td>\n",
       "      <td>...</td>\n",
       "      <td>2017-04-13T21:47:29.433Z</td>\n",
       "      <td>Maine</td>\n",
       "      <td>earthquake</td>\n",
       "      <td>NaN</td>\n",
       "      <td>NaN</td>\n",
       "      <td>NaN</td>\n",
       "      <td>NaN</td>\n",
       "      <td>reviewed</td>\n",
       "      <td>s</td>\n",
       "      <td>us</td>\n",
       "    </tr>\n",
       "    <tr>\n",
       "      <th>910</th>\n",
       "      <td>1973-02-28T08:21:32.300Z</td>\n",
       "      <td>39.718000</td>\n",
       "      <td>-75.441000</td>\n",
       "      <td>14.00</td>\n",
       "      <td>3.80</td>\n",
       "      <td>lg</td>\n",
       "      <td>NaN</td>\n",
       "      <td>NaN</td>\n",
       "      <td>NaN</td>\n",
       "      <td>NaN</td>\n",
       "      <td>...</td>\n",
       "      <td>2014-11-06T23:21:09.611Z</td>\n",
       "      <td>New Jersey</td>\n",
       "      <td>earthquake</td>\n",
       "      <td>NaN</td>\n",
       "      <td>NaN</td>\n",
       "      <td>NaN</td>\n",
       "      <td>NaN</td>\n",
       "      <td>reviewed</td>\n",
       "      <td>s</td>\n",
       "      <td>slm</td>\n",
       "    </tr>\n",
       "    <tr>\n",
       "      <th>911</th>\n",
       "      <td>1973-01-12T11:56:56.000Z</td>\n",
       "      <td>37.930000</td>\n",
       "      <td>-90.520000</td>\n",
       "      <td>20.00</td>\n",
       "      <td>3.20</td>\n",
       "      <td>lg</td>\n",
       "      <td>NaN</td>\n",
       "      <td>NaN</td>\n",
       "      <td>NaN</td>\n",
       "      <td>NaN</td>\n",
       "      <td>...</td>\n",
       "      <td>2014-11-06T23:21:07.594Z</td>\n",
       "      <td>Missouri</td>\n",
       "      <td>earthquake</td>\n",
       "      <td>NaN</td>\n",
       "      <td>NaN</td>\n",
       "      <td>NaN</td>\n",
       "      <td>NaN</td>\n",
       "      <td>reviewed</td>\n",
       "      <td>j</td>\n",
       "      <td>slm</td>\n",
       "    </tr>\n",
       "    <tr>\n",
       "      <th>912</th>\n",
       "      <td>1973-01-08T09:11:36.800Z</td>\n",
       "      <td>33.777000</td>\n",
       "      <td>-90.625000</td>\n",
       "      <td>7.00</td>\n",
       "      <td>3.50</td>\n",
       "      <td>lg</td>\n",
       "      <td>NaN</td>\n",
       "      <td>NaN</td>\n",
       "      <td>NaN</td>\n",
       "      <td>NaN</td>\n",
       "      <td>...</td>\n",
       "      <td>2014-11-06T23:21:07.452Z</td>\n",
       "      <td>Mississippi</td>\n",
       "      <td>earthquake</td>\n",
       "      <td>NaN</td>\n",
       "      <td>NaN</td>\n",
       "      <td>NaN</td>\n",
       "      <td>NaN</td>\n",
       "      <td>reviewed</td>\n",
       "      <td>s</td>\n",
       "      <td>slm</td>\n",
       "    </tr>\n",
       "    <tr>\n",
       "      <th>913</th>\n",
       "      <td>1973-01-07T22:56:06.100Z</td>\n",
       "      <td>37.440000</td>\n",
       "      <td>-87.300000</td>\n",
       "      <td>15.00</td>\n",
       "      <td>3.20</td>\n",
       "      <td>lg</td>\n",
       "      <td>NaN</td>\n",
       "      <td>NaN</td>\n",
       "      <td>NaN</td>\n",
       "      <td>NaN</td>\n",
       "      <td>...</td>\n",
       "      <td>2014-11-06T23:21:07.438Z</td>\n",
       "      <td>western Kentucky</td>\n",
       "      <td>earthquake</td>\n",
       "      <td>NaN</td>\n",
       "      <td>NaN</td>\n",
       "      <td>NaN</td>\n",
       "      <td>NaN</td>\n",
       "      <td>reviewed</td>\n",
       "      <td>j</td>\n",
       "      <td>slm</td>\n",
       "    </tr>\n",
       "  </tbody>\n",
       "</table>\n",
       "<p>914 rows × 22 columns</p>\n",
       "</div>"
      ],
      "text/plain": [
       "                         time   latitude  longitude  depth   mag magType  \\\n",
       "0    2009-12-20T05:05:21.340Z  35.554000 -97.267000   5.00  3.10    mblg   \n",
       "1    2009-12-18T11:38:08.660Z  36.450667 -89.541000   9.06  3.10      md   \n",
       "2    2009-12-17T02:53:42.520Z  40.406000 -95.863000   5.00  3.60    mblg   \n",
       "3    2009-12-13T22:00:50.540Z  42.573167 -74.107667  10.18  3.15      md   \n",
       "4    2009-12-13T08:38:25.880Z  35.587000 -97.285000   5.00  3.60    mblg   \n",
       "5    2009-12-12T11:34:05.450Z  35.556000 -97.316000   5.00  3.10    mblg   \n",
       "6    2009-12-07T17:44:25.180Z  35.556000 -97.250000   5.00  3.50    mblg   \n",
       "7    2009-12-07T00:27:26.830Z  33.029333 -83.010833   6.87  3.20     mlg   \n",
       "8    2009-11-29T01:36:58.630Z  35.563000 -97.275000   5.00  3.00    mblg   \n",
       "9    2009-11-17T04:00:17.770Z  34.462000 -97.532000   5.00  3.10    mblg   \n",
       "10   2009-11-16T11:12:37.140Z  35.482000 -97.228000   5.00  3.00    mblg   \n",
       "11   2009-11-14T11:13:01.340Z  35.494000 -97.204000   5.00  3.10    mblg   \n",
       "12   2009-11-06T06:12:39.770Z  36.088500 -89.401833   9.32  3.40     mlg   \n",
       "13   2009-11-02T03:16:45.290Z  46.108333 -74.752833   3.92  3.59      md   \n",
       "14   2009-11-01T17:01:26.310Z  35.136833 -84.854333  24.51  3.00     mlg   \n",
       "15   2009-10-23T03:56:29.730Z  35.804000 -97.029000   5.00  3.00    mblg   \n",
       "16   2009-10-15T18:53:23.000Z  35.247333 -92.394833   0.00  3.00     mlg   \n",
       "17   2009-10-03T06:04:32.620Z  45.967000 -77.018000  18.00  3.10    mblg   \n",
       "18   2009-08-31T14:07:10.230Z  35.778000 -84.123833  14.25  3.30      md   \n",
       "19   2009-08-29T10:37:13.700Z  33.033000 -80.158667   4.93  3.20     mlg   \n",
       "20   2009-08-28T02:09:06.000Z  35.565000 -97.290000   5.00  3.50    mblg   \n",
       "21   2009-08-27T08:22:14.530Z  34.942000 -96.618000   5.00  3.40    mblg   \n",
       "22   2009-08-01T13:38:26.110Z  35.063500 -84.292333   5.40  3.20     mlg   \n",
       "23   2009-07-22T02:25:59.800Z  35.742000 -96.944000   5.00  3.30    mblg   \n",
       "24   2009-07-21T14:20:56.350Z  49.725000 -65.706000  13.80  3.50     mwr   \n",
       "25   2009-07-01T17:14:48.240Z  35.547000 -97.169000   5.00  3.40    mblg   \n",
       "26   2009-06-26T21:23:13.750Z  36.361000 -97.467000   5.00  3.70    mblg   \n",
       "27   2009-06-14T21:31:09.020Z  35.659000 -96.850000   5.00  3.40    mblg   \n",
       "28   2009-05-28T09:19:24.740Z  45.825500 -75.825833   3.87  3.02      md   \n",
       "29   2009-05-18T00:53:29.930Z  42.571167 -74.111500   8.61  3.05      md   \n",
       "..                        ...        ...        ...    ...   ...     ...   \n",
       "884  1974-10-28T11:33:00.000Z  33.790000 -81.920000    NaN  3.00      ml   \n",
       "885  1974-10-20T15:13:55.100Z  39.095000 -81.593000  11.00  3.40      lg   \n",
       "886  1974-09-29T02:26:17.100Z  41.238000 -83.361000   1.00  3.00      lg   \n",
       "887  1974-08-11T14:29:43.800Z  36.820000 -91.290000   5.00  3.60     mlg   \n",
       "888  1974-08-02T08:52:09.800Z  33.872000 -82.488000   1.00  4.30      mb   \n",
       "889  1974-06-07T19:45:36.800Z  41.571000 -73.940000   2.00  3.30      ml   \n",
       "890  1974-06-05T08:06:11.300Z  38.620000 -89.940000  11.00  4.00      mb   \n",
       "891  1974-06-05T00:16:40.400Z  38.600000 -84.770000  15.00  3.20      lg   \n",
       "892  1974-05-30T21:28:37.200Z  37.382000 -80.419000   8.00  3.60      lg   \n",
       "893  1974-05-13T06:52:18.800Z  36.710000 -89.390000   1.00  4.30      mb   \n",
       "894  1974-04-27T14:45:39.100Z  41.004000 -75.955000   3.00  3.00      mb   \n",
       "895  1974-04-03T23:05:02.500Z  38.592000 -88.094000  11.00  4.50      mb   \n",
       "896  1974-03-12T12:30:28.600Z  35.660000 -89.790000   5.00  3.20      lg   \n",
       "897  1974-03-04T14:24:27.800Z  35.680000 -90.350000   5.00  3.00      lg   \n",
       "898  1974-02-24T07:53:45.200Z  35.820000 -90.380000   6.00  3.20      lg   \n",
       "899  1974-02-15T22:49:01.800Z  33.960000 -93.030000   1.00  3.80      mb   \n",
       "900  1974-02-15T22:35:44.700Z  34.050000 -93.130000   1.00  3.60      lg   \n",
       "901  1974-02-15T22:32:34.600Z  33.950000 -93.090000   1.00  3.60      lg   \n",
       "902  1974-01-08T01:12:37.400Z  36.200000 -89.390000   1.00  4.10      mb   \n",
       "903  1973-12-20T10:45:00.100Z  36.157000 -89.580000  10.00  3.40      lg   \n",
       "904  1973-11-30T07:48:41.200Z  35.799000 -83.962000   3.00  4.70      mb   \n",
       "905  1973-10-30T22:58:39.000Z  35.750000 -84.000000  33.00  3.40      lg   \n",
       "906  1973-10-09T20:15:26.800Z  36.510000 -89.610000   1.00  3.80      lg   \n",
       "907  1973-10-03T03:50:20.400Z  35.910000 -90.000000  10.00  3.40      lg   \n",
       "908  1973-07-15T10:32:37.700Z  43.900000 -74.412000   1.00  3.40      mb   \n",
       "909  1973-06-15T01:09:04.200Z  45.317000 -70.908000  12.00  4.80      mb   \n",
       "910  1973-02-28T08:21:32.300Z  39.718000 -75.441000  14.00  3.80      lg   \n",
       "911  1973-01-12T11:56:56.000Z  37.930000 -90.520000  20.00  3.20      lg   \n",
       "912  1973-01-08T09:11:36.800Z  33.777000 -90.625000   7.00  3.50      lg   \n",
       "913  1973-01-07T22:56:06.100Z  37.440000 -87.300000  15.00  3.20      lg   \n",
       "\n",
       "      nst    gap     dmin   rms    ...                      updated  \\\n",
       "0     9.0   92.7      NaN  1.01    ...     2017-06-26T21:08:06.162Z   \n",
       "1    37.0   54.0  0.05840  0.07    ...     2016-04-08T16:26:33.350Z   \n",
       "2    33.0   29.1      NaN  0.78    ...     2015-03-24T01:40:05.005Z   \n",
       "3    21.0   72.0      NaN  0.20    ...     2016-08-31T19:34:46.793Z   \n",
       "4    23.0   59.5      NaN  0.61    ...     2017-06-26T21:08:28.690Z   \n",
       "5    12.0   90.6      NaN  0.73    ...     2017-06-26T21:08:40.315Z   \n",
       "6    21.0   75.4      NaN  0.73    ...     2017-06-26T21:09:03.375Z   \n",
       "7    24.0  105.0      NaN  0.29    ...     2016-04-08T16:39:41.620Z   \n",
       "8    14.0   77.7      NaN  0.92    ...     2017-06-26T21:09:15.327Z   \n",
       "9    18.0   74.4      NaN  1.26    ...     2017-06-26T21:09:38.168Z   \n",
       "10   11.0   77.0      NaN  1.00    ...     2017-06-26T21:09:49.414Z   \n",
       "11   13.0   77.0      NaN  0.92    ...     2017-06-26T21:10:01.036Z   \n",
       "12   38.0   40.0  0.02017  0.06    ...     2016-04-08T16:22:29.130Z   \n",
       "13   21.0  106.0  0.17750  0.18    ...     2016-08-31T19:28:41.644Z   \n",
       "14   24.0   63.0      NaN  0.15    ...     2016-04-08T16:38:07.290Z   \n",
       "15   19.0   72.5      NaN  0.80    ...     2017-06-26T21:10:22.985Z   \n",
       "16   14.0  171.0      NaN  0.22    ...     2016-04-08T16:19:42.110Z   \n",
       "17   22.0  109.7      NaN   NaN    ...     2015-01-31T04:25:11.387Z   \n",
       "18   24.0   79.0      NaN  0.15    ...     2016-04-08T16:35:55.100Z   \n",
       "19   14.0  122.0      NaN  0.17    ...     2016-04-08T16:35:36.160Z   \n",
       "20    4.0  132.1      NaN   NaN    ...     2017-06-26T21:10:45.137Z   \n",
       "21   31.0   39.8      NaN  1.18    ...     2017-06-26T21:11:18.021Z   \n",
       "22   28.0   75.0      NaN  0.09    ...     2016-04-08T16:34:45.230Z   \n",
       "23   16.0   76.5      NaN  0.80    ...     2017-06-26T21:11:40.624Z   \n",
       "24   13.0  245.9      NaN   NaN    ...     2014-11-07T01:39:20.827Z   \n",
       "25   10.0   96.7      NaN  1.23    ...     2017-06-26T21:11:52.465Z   \n",
       "26   26.0   76.3      NaN  1.05    ...     2017-06-26T21:12:04.323Z   \n",
       "27    9.0   94.9      NaN  0.92    ...     2017-06-26T21:12:26.553Z   \n",
       "28   20.0   77.0      NaN  0.14    ...     2016-05-27T19:27:38.150Z   \n",
       "29   24.0   72.0      NaN  0.21    ...     2016-08-31T19:26:15.370Z   \n",
       "..    ...    ...      ...   ...    ...                          ...   \n",
       "884   NaN    NaN      NaN   NaN    ...     2014-11-06T23:21:27.052Z   \n",
       "885   NaN    NaN      NaN   NaN    ...     2014-11-06T23:21:26.936Z   \n",
       "886   NaN    NaN      NaN   NaN    ...     2014-11-06T23:21:26.599Z   \n",
       "887   NaN    NaN      NaN   NaN    ...     2016-04-14T12:33:55.917Z   \n",
       "888   NaN    NaN      NaN   NaN    ...     2017-04-13T21:48:18.459Z   \n",
       "889   NaN    NaN      NaN   NaN    ...     2014-11-06T23:21:24.588Z   \n",
       "890   NaN    NaN      NaN   NaN    ...     2014-11-06T23:21:24.545Z   \n",
       "891   NaN    NaN      NaN   NaN    ...     2014-11-06T23:21:24.540Z   \n",
       "892   NaN    NaN      NaN   NaN    ...     2014-11-06T23:21:24.462Z   \n",
       "893   NaN    NaN      NaN   NaN    ...     2017-04-13T21:48:10.676Z   \n",
       "894   NaN    NaN      NaN   NaN    ...     2014-11-06T23:21:23.962Z   \n",
       "895   NaN    NaN      NaN   NaN    ...     2017-04-13T21:48:07.691Z   \n",
       "896   NaN    NaN      NaN   NaN    ...     2014-11-06T23:21:23.314Z   \n",
       "897   NaN    NaN      NaN   NaN    ...     2014-11-06T23:21:23.220Z   \n",
       "898   NaN    NaN      NaN   NaN    ...     2014-11-06T23:21:22.983Z   \n",
       "899   NaN    NaN      NaN   NaN    ...     2014-11-06T23:21:22.862Z   \n",
       "900   NaN    NaN      NaN   NaN    ...     2014-11-06T23:21:22.862Z   \n",
       "901   NaN    NaN      NaN   NaN    ...     2014-11-06T23:21:22.861Z   \n",
       "902   NaN    NaN      NaN   NaN    ...     2014-11-06T23:21:22.320Z   \n",
       "903   NaN    NaN      NaN   NaN    ...     2014-11-06T23:21:21.906Z   \n",
       "904   NaN    NaN      NaN   NaN    ...     2017-04-26T17:27:15.800Z   \n",
       "905   NaN    NaN      NaN   NaN    ...     2014-11-06T23:21:21.092Z   \n",
       "906   NaN    NaN      NaN   NaN    ...     2014-11-06T23:21:20.747Z   \n",
       "907   NaN    NaN      NaN   NaN    ...     2014-11-06T23:21:20.614Z   \n",
       "908   NaN    NaN      NaN   NaN    ...     2014-11-06T23:21:14.828Z   \n",
       "909   NaN    NaN      NaN   NaN    ...     2017-04-13T21:47:29.433Z   \n",
       "910   NaN    NaN      NaN   NaN    ...     2014-11-06T23:21:09.611Z   \n",
       "911   NaN    NaN      NaN   NaN    ...     2014-11-06T23:21:07.594Z   \n",
       "912   NaN    NaN      NaN   NaN    ...     2014-11-06T23:21:07.452Z   \n",
       "913   NaN    NaN      NaN   NaN    ...     2014-11-06T23:21:07.438Z   \n",
       "\n",
       "                                     place        type horizontalError  \\\n",
       "0                                 Oklahoma  earthquake             NaN   \n",
       "1        10km NW of Tiptonville, Tennessee  earthquake            0.20   \n",
       "2                                 Nebraska  earthquake             NaN   \n",
       "3                                 New York  earthquake            0.26   \n",
       "4                                 Oklahoma  earthquake             NaN   \n",
       "5                                 Oklahoma  earthquake             NaN   \n",
       "6                                 Oklahoma  earthquake             NaN   \n",
       "7        19km WNW of Sandersville, Georgia  earthquake            2.00   \n",
       "8                                 Oklahoma  earthquake             NaN   \n",
       "9                                 Oklahoma  earthquake             NaN   \n",
       "10                                Oklahoma  earthquake             NaN   \n",
       "11                                Oklahoma  earthquake             NaN   \n",
       "12         6km NNW of Dyersburg, Tennessee  earthquake            0.30   \n",
       "13                 southern Quebec, Canada  earthquake            0.24   \n",
       "14   1km ESE of South Cleveland, Tennessee  earthquake            0.40   \n",
       "15                                Oklahoma  earthquake             NaN   \n",
       "16         1km NNW of Greenbrier, Arkansas  earthquake            3.90   \n",
       "17                southern Ontario, Canada  earthquake             NaN   \n",
       "18         8km SW of Louisville, Tennessee  earthquake            0.30   \n",
       "19   2km NE of Summerville, South Carolina  earthquake            0.60   \n",
       "20                                Oklahoma  earthquake             NaN   \n",
       "21                                Oklahoma  earthquake             NaN   \n",
       "22         11km NE of McCaysville, Georgia  earthquake            0.40   \n",
       "23                                Oklahoma  earthquake             NaN   \n",
       "24         Gaspe Peninsula, Quebec, Canada  earthquake             NaN   \n",
       "25                                Oklahoma  earthquake             NaN   \n",
       "26                                Oklahoma  earthquake             NaN   \n",
       "27                                Oklahoma  earthquake             NaN   \n",
       "28    Ontario-Quebec border region, Canada  earthquake            0.21   \n",
       "29                                New York  earthquake            0.24   \n",
       "..                                     ...         ...             ...   \n",
       "884                         South Carolina  earthquake             NaN   \n",
       "885                          West Virginia  earthquake             NaN   \n",
       "886                                   Ohio  earthquake             NaN   \n",
       "887             17km NE of Alton, Missouri  earthquake             NaN   \n",
       "888                           Georgia, USA  earthquake             NaN   \n",
       "889                               New York  earthquake             NaN   \n",
       "890                               Illinois  earthquake             NaN   \n",
       "891                       eastern Kentucky  earthquake             NaN   \n",
       "892                          West Virginia  earthquake             NaN   \n",
       "893                               Missouri  earthquake             NaN   \n",
       "894                           Pennsylvania  earthquake             NaN   \n",
       "895                               Illinois  earthquake             NaN   \n",
       "896                              Tennessee  earthquake             NaN   \n",
       "897                               Arkansas  earthquake             NaN   \n",
       "898                               Arkansas  earthquake             NaN   \n",
       "899                               Arkansas  earthquake             NaN   \n",
       "900                               Arkansas  earthquake             NaN   \n",
       "901                               Arkansas  earthquake             NaN   \n",
       "902                              Tennessee  earthquake             NaN   \n",
       "903                              Tennessee  earthquake             NaN   \n",
       "904                      eastern Tennessee  earthquake             NaN   \n",
       "905                      eastern Tennessee  earthquake             NaN   \n",
       "906                               Missouri  earthquake             NaN   \n",
       "907                               Arkansas  earthquake             NaN   \n",
       "908                               New York  earthquake             NaN   \n",
       "909                                  Maine  earthquake             NaN   \n",
       "910                             New Jersey  earthquake             NaN   \n",
       "911                               Missouri  earthquake             NaN   \n",
       "912                            Mississippi  earthquake             NaN   \n",
       "913                       western Kentucky  earthquake             NaN   \n",
       "\n",
       "    depthError  magError  magNst    status  locationSource magSource  \n",
       "0          NaN       NaN     NaN  reviewed              us        us  \n",
       "1         0.60     0.083    11.0  reviewed              nm        nm  \n",
       "2          NaN       NaN     NaN  reviewed              us        us  \n",
       "3         0.47       NaN     NaN  reviewed              ld        ld  \n",
       "4          NaN       NaN     NaN  reviewed              us        us  \n",
       "5          NaN       NaN     NaN  reviewed              us        us  \n",
       "6          NaN       NaN     NaN  reviewed              us        us  \n",
       "7         3.30     0.324     1.0  reviewed              se        se  \n",
       "8          NaN       NaN     NaN  reviewed              us        us  \n",
       "9          NaN       NaN     NaN  reviewed              us        us  \n",
       "10         NaN       NaN     NaN  reviewed              us        us  \n",
       "11         NaN       NaN     NaN  reviewed              us        us  \n",
       "12        0.60     0.175     8.0  reviewed              nm        nm  \n",
       "13        0.58       NaN     NaN  reviewed              ld        ld  \n",
       "14        1.00     0.802     7.0  reviewed              se        se  \n",
       "15         NaN       NaN     NaN  reviewed              us        us  \n",
       "16        3.50     0.257     7.0  reviewed              nm        nm  \n",
       "17         NaN       NaN     NaN  reviewed             ott       ott  \n",
       "18        0.60     0.064     6.0  reviewed              se        se  \n",
       "19        1.00       NaN     NaN  reviewed              se        se  \n",
       "20         NaN       NaN     NaN  reviewed            macr        us  \n",
       "21         NaN       NaN     NaN  reviewed              us       tul  \n",
       "22        1.40     0.554     7.0  reviewed              se        se  \n",
       "23         NaN       NaN     NaN  reviewed              us        us  \n",
       "24         NaN       NaN     NaN  reviewed             ott        us  \n",
       "25         NaN       NaN     NaN  reviewed              us       tul  \n",
       "26         NaN       NaN     NaN  reviewed              us        us  \n",
       "27         NaN       NaN     NaN  reviewed              us        us  \n",
       "28        0.46       NaN     NaN  reviewed              ld        ld  \n",
       "29        0.53       NaN     NaN  reviewed              ld        ld  \n",
       "..         ...       ...     ...       ...             ...       ...  \n",
       "884        NaN       NaN     NaN  reviewed               m       csc  \n",
       "885        NaN       NaN     NaN  reviewed               s       slm  \n",
       "886        NaN       NaN     NaN  reviewed               s       slm  \n",
       "887        NaN       NaN     NaN  reviewed              nm        nm  \n",
       "888        NaN       NaN     NaN  reviewed               s        us  \n",
       "889        NaN       NaN     NaN  reviewed               l       pal  \n",
       "890        NaN       NaN     NaN  reviewed               j        us  \n",
       "891        NaN       NaN     NaN  reviewed               j       slm  \n",
       "892        NaN       NaN     NaN  reviewed               s       bla  \n",
       "893        NaN       NaN     NaN  reviewed               j        us  \n",
       "894        NaN       NaN     NaN  reviewed               s        us  \n",
       "895        NaN       NaN     NaN  reviewed              us        us  \n",
       "896        NaN       NaN     NaN  reviewed               j       slm  \n",
       "897        NaN       NaN     NaN  reviewed               j       slm  \n",
       "898        NaN       NaN     NaN  reviewed              us       slm  \n",
       "899        NaN       NaN     NaN  reviewed               j        us  \n",
       "900        NaN       NaN     NaN  reviewed               j       slm  \n",
       "901        NaN       NaN     NaN  reviewed               j       slm  \n",
       "902        NaN       NaN     NaN  reviewed               j        us  \n",
       "903        NaN       NaN     NaN  reviewed               j       slm  \n",
       "904        NaN       NaN     NaN  reviewed               s        us  \n",
       "905        NaN       NaN     NaN  reviewed               m        gs  \n",
       "906        NaN       NaN     NaN  reviewed               j       slm  \n",
       "907        NaN       NaN     NaN  reviewed               j       slm  \n",
       "908        NaN       NaN     NaN  reviewed               s        us  \n",
       "909        NaN       NaN     NaN  reviewed               s        us  \n",
       "910        NaN       NaN     NaN  reviewed               s       slm  \n",
       "911        NaN       NaN     NaN  reviewed               j       slm  \n",
       "912        NaN       NaN     NaN  reviewed               s       slm  \n",
       "913        NaN       NaN     NaN  reviewed               j       slm  \n",
       "\n",
       "[914 rows x 22 columns]"
      ]
     },
     "execution_count": 4,
     "metadata": {},
     "output_type": "execute_result"
    }
   ],
   "source": [
    "df"
   ]
  },
  {
   "cell_type": "code",
   "execution_count": 5,
   "metadata": {},
   "outputs": [
    {
     "data": {
      "text/plain": [
       "(914, 22)"
      ]
     },
     "execution_count": 5,
     "metadata": {},
     "output_type": "execute_result"
    }
   ],
   "source": [
    "df.shape"
   ]
  },
  {
   "cell_type": "code",
   "execution_count": 126,
   "metadata": {
    "collapsed": true
   },
   "outputs": [],
   "source": [
    "#df = df.drop(df.index[[1, 2, 3, 5]])"
   ]
  },
  {
   "cell_type": "code",
   "execution_count": 6,
   "metadata": {
    "collapsed": true
   },
   "outputs": [],
   "source": [
    "import geopandas as gpd\n",
    "from shapely.geometry import Point\n",
    "%matplotlib inline"
   ]
  },
  {
   "cell_type": "code",
   "execution_count": 7,
   "metadata": {},
   "outputs": [
    {
     "data": {
      "text/html": [
       "<div>\n",
       "<style>\n",
       "    .dataframe thead tr:only-child th {\n",
       "        text-align: right;\n",
       "    }\n",
       "\n",
       "    .dataframe thead th {\n",
       "        text-align: left;\n",
       "    }\n",
       "\n",
       "    .dataframe tbody tr th {\n",
       "        vertical-align: top;\n",
       "    }\n",
       "</style>\n",
       "<table border=\"1\" class=\"dataframe\">\n",
       "  <thead>\n",
       "    <tr style=\"text-align: right;\">\n",
       "      <th></th>\n",
       "      <th>AFFGEOID</th>\n",
       "      <th>ALAND</th>\n",
       "      <th>AWATER</th>\n",
       "      <th>GEOID</th>\n",
       "      <th>LSAD</th>\n",
       "      <th>NAME</th>\n",
       "      <th>STATEFP</th>\n",
       "      <th>STATENS</th>\n",
       "      <th>STUSPS</th>\n",
       "      <th>geometry</th>\n",
       "    </tr>\n",
       "  </thead>\n",
       "  <tbody>\n",
       "    <tr>\n",
       "      <th>0</th>\n",
       "      <td>0400000US01</td>\n",
       "      <td>131173688951</td>\n",
       "      <td>4593686489</td>\n",
       "      <td>01</td>\n",
       "      <td>00</td>\n",
       "      <td>Alabama</td>\n",
       "      <td>01</td>\n",
       "      <td>01779775</td>\n",
       "      <td>AL</td>\n",
       "      <td>(POLYGON ((-88.053375 30.506987, -88.051087999...</td>\n",
       "    </tr>\n",
       "    <tr>\n",
       "      <th>1</th>\n",
       "      <td>0400000US02</td>\n",
       "      <td>1477946266785</td>\n",
       "      <td>245390495931</td>\n",
       "      <td>02</td>\n",
       "      <td>00</td>\n",
       "      <td>Alaska</td>\n",
       "      <td>02</td>\n",
       "      <td>01785533</td>\n",
       "      <td>AK</td>\n",
       "      <td>(POLYGON ((-134.737262 58.261354, -134.73441 5...</td>\n",
       "    </tr>\n",
       "    <tr>\n",
       "      <th>2</th>\n",
       "      <td>0400000US04</td>\n",
       "      <td>294198560125</td>\n",
       "      <td>1027346486</td>\n",
       "      <td>04</td>\n",
       "      <td>00</td>\n",
       "      <td>Arizona</td>\n",
       "      <td>04</td>\n",
       "      <td>01779777</td>\n",
       "      <td>AZ</td>\n",
       "      <td>POLYGON ((-114.816294 32.508038, -114.814321 3...</td>\n",
       "    </tr>\n",
       "    <tr>\n",
       "      <th>3</th>\n",
       "      <td>0400000US05</td>\n",
       "      <td>134771517596</td>\n",
       "      <td>2960191698</td>\n",
       "      <td>05</td>\n",
       "      <td>00</td>\n",
       "      <td>Arkansas</td>\n",
       "      <td>05</td>\n",
       "      <td>00068085</td>\n",
       "      <td>AR</td>\n",
       "      <td>POLYGON ((-94.6178329666013 36.4994141203285, ...</td>\n",
       "    </tr>\n",
       "    <tr>\n",
       "      <th>4</th>\n",
       "      <td>0400000US06</td>\n",
       "      <td>403501101370</td>\n",
       "      <td>20466718403</td>\n",
       "      <td>06</td>\n",
       "      <td>00</td>\n",
       "      <td>California</td>\n",
       "      <td>06</td>\n",
       "      <td>01779778</td>\n",
       "      <td>CA</td>\n",
       "      <td>(POLYGON ((-118.604415 33.478552, -118.598783 ...</td>\n",
       "    </tr>\n",
       "    <tr>\n",
       "      <th>5</th>\n",
       "      <td>0400000US08</td>\n",
       "      <td>268429343790</td>\n",
       "      <td>1175112870</td>\n",
       "      <td>08</td>\n",
       "      <td>00</td>\n",
       "      <td>Colorado</td>\n",
       "      <td>08</td>\n",
       "      <td>01779779</td>\n",
       "      <td>CO</td>\n",
       "      <td>POLYGON ((-109.060253 38.599328, -109.059541 3...</td>\n",
       "    </tr>\n",
       "    <tr>\n",
       "      <th>6</th>\n",
       "      <td>0400000US09</td>\n",
       "      <td>12542638347</td>\n",
       "      <td>1815476291</td>\n",
       "      <td>09</td>\n",
       "      <td>00</td>\n",
       "      <td>Connecticut</td>\n",
       "      <td>09</td>\n",
       "      <td>01779780</td>\n",
       "      <td>CT</td>\n",
       "      <td>(POLYGON ((-72.761427 41.242333, -72.759733 41...</td>\n",
       "    </tr>\n",
       "    <tr>\n",
       "      <th>7</th>\n",
       "      <td>0400000US10</td>\n",
       "      <td>5047194742</td>\n",
       "      <td>1398720828</td>\n",
       "      <td>10</td>\n",
       "      <td>00</td>\n",
       "      <td>Delaware</td>\n",
       "      <td>10</td>\n",
       "      <td>01779781</td>\n",
       "      <td>DE</td>\n",
       "      <td>(POLYGON ((-75.565546 39.51485, -75.5617429999...</td>\n",
       "    </tr>\n",
       "    <tr>\n",
       "      <th>8</th>\n",
       "      <td>0400000US11</td>\n",
       "      <td>158364992</td>\n",
       "      <td>18633403</td>\n",
       "      <td>11</td>\n",
       "      <td>00</td>\n",
       "      <td>District of Columbia</td>\n",
       "      <td>11</td>\n",
       "      <td>01702382</td>\n",
       "      <td>DC</td>\n",
       "      <td>POLYGON ((-77.119759 38.934343, -77.1125318000...</td>\n",
       "    </tr>\n",
       "    <tr>\n",
       "      <th>9</th>\n",
       "      <td>0400000US13</td>\n",
       "      <td>149169848456</td>\n",
       "      <td>4741100880</td>\n",
       "      <td>13</td>\n",
       "      <td>00</td>\n",
       "      <td>Georgia</td>\n",
       "      <td>13</td>\n",
       "      <td>01705317</td>\n",
       "      <td>GA</td>\n",
       "      <td>(POLYGON ((-81.27939099999999 31.30792, -81.27...</td>\n",
       "    </tr>\n",
       "    <tr>\n",
       "      <th>10</th>\n",
       "      <td>0400000US15</td>\n",
       "      <td>16634100855</td>\n",
       "      <td>11777698394</td>\n",
       "      <td>15</td>\n",
       "      <td>00</td>\n",
       "      <td>Hawaii</td>\n",
       "      <td>15</td>\n",
       "      <td>01779782</td>\n",
       "      <td>HI</td>\n",
       "      <td>(POLYGON ((-175.741258 27.924056, -175.736313 ...</td>\n",
       "    </tr>\n",
       "    <tr>\n",
       "      <th>11</th>\n",
       "      <td>0400000US16</td>\n",
       "      <td>214042908012</td>\n",
       "      <td>2398669593</td>\n",
       "      <td>16</td>\n",
       "      <td>00</td>\n",
       "      <td>Idaho</td>\n",
       "      <td>16</td>\n",
       "      <td>01779783</td>\n",
       "      <td>ID</td>\n",
       "      <td>POLYGON ((-117.242675 44.396548, -117.234835 4...</td>\n",
       "    </tr>\n",
       "    <tr>\n",
       "      <th>12</th>\n",
       "      <td>0400000US17</td>\n",
       "      <td>143788697679</td>\n",
       "      <td>6206693598</td>\n",
       "      <td>17</td>\n",
       "      <td>00</td>\n",
       "      <td>Illinois</td>\n",
       "      <td>17</td>\n",
       "      <td>01779784</td>\n",
       "      <td>IL</td>\n",
       "      <td>POLYGON ((-91.512974 40.181062, -91.511073 40....</td>\n",
       "    </tr>\n",
       "    <tr>\n",
       "      <th>13</th>\n",
       "      <td>0400000US18</td>\n",
       "      <td>92790545247</td>\n",
       "      <td>1536767065</td>\n",
       "      <td>18</td>\n",
       "      <td>00</td>\n",
       "      <td>Indiana</td>\n",
       "      <td>18</td>\n",
       "      <td>00448508</td>\n",
       "      <td>IN</td>\n",
       "      <td>POLYGON ((-88.09775999999999 37.904026, -88.09...</td>\n",
       "    </tr>\n",
       "    <tr>\n",
       "      <th>14</th>\n",
       "      <td>0400000US19</td>\n",
       "      <td>144667643793</td>\n",
       "      <td>1077808017</td>\n",
       "      <td>19</td>\n",
       "      <td>00</td>\n",
       "      <td>Iowa</td>\n",
       "      <td>19</td>\n",
       "      <td>01779785</td>\n",
       "      <td>IA</td>\n",
       "      <td>POLYGON ((-96.63970399999999 42.737071, -96.63...</td>\n",
       "    </tr>\n",
       "    <tr>\n",
       "      <th>15</th>\n",
       "      <td>0400000US20</td>\n",
       "      <td>211753253104</td>\n",
       "      <td>1346235678</td>\n",
       "      <td>20</td>\n",
       "      <td>00</td>\n",
       "      <td>Kansas</td>\n",
       "      <td>20</td>\n",
       "      <td>00481813</td>\n",
       "      <td>KS</td>\n",
       "      <td>POLYGON ((-102.051744 40.003078, -101.916696 4...</td>\n",
       "    </tr>\n",
       "    <tr>\n",
       "      <th>16</th>\n",
       "      <td>0400000US24</td>\n",
       "      <td>25147754905</td>\n",
       "      <td>6983312282</td>\n",
       "      <td>24</td>\n",
       "      <td>00</td>\n",
       "      <td>Maryland</td>\n",
       "      <td>24</td>\n",
       "      <td>01714934</td>\n",
       "      <td>MD</td>\n",
       "      <td>(POLYGON ((-76.05015299999999 37.986905, -76.0...</td>\n",
       "    </tr>\n",
       "    <tr>\n",
       "      <th>17</th>\n",
       "      <td>0400000US27</td>\n",
       "      <td>206232257655</td>\n",
       "      <td>18929176411</td>\n",
       "      <td>27</td>\n",
       "      <td>00</td>\n",
       "      <td>Minnesota</td>\n",
       "      <td>27</td>\n",
       "      <td>00662849</td>\n",
       "      <td>MN</td>\n",
       "      <td>(POLYGON ((-89.59205799999999 47.966683, -89.5...</td>\n",
       "    </tr>\n",
       "    <tr>\n",
       "      <th>18</th>\n",
       "      <td>0400000US28</td>\n",
       "      <td>121529933533</td>\n",
       "      <td>3930505829</td>\n",
       "      <td>28</td>\n",
       "      <td>00</td>\n",
       "      <td>Mississippi</td>\n",
       "      <td>28</td>\n",
       "      <td>01779790</td>\n",
       "      <td>MS</td>\n",
       "      <td>(POLYGON ((-88.502966 30.215235, -88.491759 30...</td>\n",
       "    </tr>\n",
       "    <tr>\n",
       "      <th>19</th>\n",
       "      <td>0400000US30</td>\n",
       "      <td>376964956503</td>\n",
       "      <td>3866986696</td>\n",
       "      <td>30</td>\n",
       "      <td>00</td>\n",
       "      <td>Montana</td>\n",
       "      <td>30</td>\n",
       "      <td>00767982</td>\n",
       "      <td>MT</td>\n",
       "      <td>POLYGON ((-116.049667201931 48.4403221865285, ...</td>\n",
       "    </tr>\n",
       "    <tr>\n",
       "      <th>20</th>\n",
       "      <td>0400000US32</td>\n",
       "      <td>284329326845</td>\n",
       "      <td>2047350887</td>\n",
       "      <td>32</td>\n",
       "      <td>00</td>\n",
       "      <td>Nevada</td>\n",
       "      <td>32</td>\n",
       "      <td>01779793</td>\n",
       "      <td>NV</td>\n",
       "      <td>POLYGON ((-120.005743 39.22866399999999, -120....</td>\n",
       "    </tr>\n",
       "    <tr>\n",
       "      <th>21</th>\n",
       "      <td>0400000US34</td>\n",
       "      <td>19050755048</td>\n",
       "      <td>3541927612</td>\n",
       "      <td>34</td>\n",
       "      <td>00</td>\n",
       "      <td>New Jersey</td>\n",
       "      <td>34</td>\n",
       "      <td>01779795</td>\n",
       "      <td>NJ</td>\n",
       "      <td>POLYGON ((-75.559102 39.629056, -75.5594459999...</td>\n",
       "    </tr>\n",
       "    <tr>\n",
       "      <th>22</th>\n",
       "      <td>0400000US35</td>\n",
       "      <td>314169362533</td>\n",
       "      <td>755722962</td>\n",
       "      <td>35</td>\n",
       "      <td>00</td>\n",
       "      <td>New Mexico</td>\n",
       "      <td>35</td>\n",
       "      <td>00897535</td>\n",
       "      <td>NM</td>\n",
       "      <td>POLYGON ((-109.050173 31.480004, -109.049843 3...</td>\n",
       "    </tr>\n",
       "    <tr>\n",
       "      <th>23</th>\n",
       "      <td>0400000US38</td>\n",
       "      <td>178711813026</td>\n",
       "      <td>4399093501</td>\n",
       "      <td>38</td>\n",
       "      <td>00</td>\n",
       "      <td>North Dakota</td>\n",
       "      <td>38</td>\n",
       "      <td>01779797</td>\n",
       "      <td>ND</td>\n",
       "      <td>POLYGON ((-104.048652 48.865734, -104.048824 4...</td>\n",
       "    </tr>\n",
       "    <tr>\n",
       "      <th>24</th>\n",
       "      <td>0400000US40</td>\n",
       "      <td>177663722167</td>\n",
       "      <td>3373836066</td>\n",
       "      <td>40</td>\n",
       "      <td>00</td>\n",
       "      <td>Oklahoma</td>\n",
       "      <td>40</td>\n",
       "      <td>01102857</td>\n",
       "      <td>OK</td>\n",
       "      <td>POLYGON ((-103.002565 36.526588, -103.002188 3...</td>\n",
       "    </tr>\n",
       "    <tr>\n",
       "      <th>25</th>\n",
       "      <td>0400000US42</td>\n",
       "      <td>115882226263</td>\n",
       "      <td>3396805575</td>\n",
       "      <td>42</td>\n",
       "      <td>00</td>\n",
       "      <td>Pennsylvania</td>\n",
       "      <td>42</td>\n",
       "      <td>01779798</td>\n",
       "      <td>PA</td>\n",
       "      <td>POLYGON ((-80.519891 40.906661, -80.519091 40....</td>\n",
       "    </tr>\n",
       "    <tr>\n",
       "      <th>26</th>\n",
       "      <td>0400000US45</td>\n",
       "      <td>77861720871</td>\n",
       "      <td>5070943755</td>\n",
       "      <td>45</td>\n",
       "      <td>00</td>\n",
       "      <td>South Carolina</td>\n",
       "      <td>45</td>\n",
       "      <td>01779799</td>\n",
       "      <td>SC</td>\n",
       "      <td>(POLYGON ((-79.507948 33.020076, -79.507132 33...</td>\n",
       "    </tr>\n",
       "    <tr>\n",
       "      <th>27</th>\n",
       "      <td>0400000US46</td>\n",
       "      <td>196348407642</td>\n",
       "      <td>3380782733</td>\n",
       "      <td>46</td>\n",
       "      <td>00</td>\n",
       "      <td>South Dakota</td>\n",
       "      <td>46</td>\n",
       "      <td>01785534</td>\n",
       "      <td>SD</td>\n",
       "      <td>POLYGON ((-104.057698 44.997431, -104.049505 4...</td>\n",
       "    </tr>\n",
       "    <tr>\n",
       "      <th>28</th>\n",
       "      <td>0400000US49</td>\n",
       "      <td>212885517115</td>\n",
       "      <td>6999529104</td>\n",
       "      <td>49</td>\n",
       "      <td>00</td>\n",
       "      <td>Utah</td>\n",
       "      <td>49</td>\n",
       "      <td>01455989</td>\n",
       "      <td>UT</td>\n",
       "      <td>POLYGON ((-114.052962 37.592783, -114.052472 3...</td>\n",
       "    </tr>\n",
       "    <tr>\n",
       "      <th>29</th>\n",
       "      <td>0400000US50</td>\n",
       "      <td>23873467535</td>\n",
       "      <td>1031124865</td>\n",
       "      <td>50</td>\n",
       "      <td>00</td>\n",
       "      <td>Vermont</td>\n",
       "      <td>50</td>\n",
       "      <td>01779802</td>\n",
       "      <td>VT</td>\n",
       "      <td>POLYGON ((-73.43773999999999 44.045006, -73.43...</td>\n",
       "    </tr>\n",
       "    <tr>\n",
       "      <th>30</th>\n",
       "      <td>0400000US54</td>\n",
       "      <td>62265597146</td>\n",
       "      <td>489902816</td>\n",
       "      <td>54</td>\n",
       "      <td>00</td>\n",
       "      <td>West Virginia</td>\n",
       "      <td>54</td>\n",
       "      <td>01779805</td>\n",
       "      <td>WV</td>\n",
       "      <td>POLYGON ((-82.6431981036679 38.1690897960737, ...</td>\n",
       "    </tr>\n",
       "    <tr>\n",
       "      <th>31</th>\n",
       "      <td>0400000US56</td>\n",
       "      <td>251464935120</td>\n",
       "      <td>1861273298</td>\n",
       "      <td>56</td>\n",
       "      <td>00</td>\n",
       "      <td>Wyoming</td>\n",
       "      <td>56</td>\n",
       "      <td>01779807</td>\n",
       "      <td>WY</td>\n",
       "      <td>POLYGON ((-111.056888 44.866658, -111.055629 4...</td>\n",
       "    </tr>\n",
       "    <tr>\n",
       "      <th>32</th>\n",
       "      <td>0400000US60</td>\n",
       "      <td>197759069</td>\n",
       "      <td>1307243753</td>\n",
       "      <td>60</td>\n",
       "      <td>00</td>\n",
       "      <td>American Samoa</td>\n",
       "      <td>60</td>\n",
       "      <td>01802701</td>\n",
       "      <td>AS</td>\n",
       "      <td>(POLYGON ((-168.145824 -14.547906, -168.145605...</td>\n",
       "    </tr>\n",
       "    <tr>\n",
       "      <th>33</th>\n",
       "      <td>0400000US72</td>\n",
       "      <td>8868100460</td>\n",
       "      <td>4923178155</td>\n",
       "      <td>72</td>\n",
       "      <td>00</td>\n",
       "      <td>Puerto Rico</td>\n",
       "      <td>72</td>\n",
       "      <td>01779808</td>\n",
       "      <td>PR</td>\n",
       "      <td>(POLYGON ((-65.23805299999999 18.321667, -65.2...</td>\n",
       "    </tr>\n",
       "    <tr>\n",
       "      <th>34</th>\n",
       "      <td>0400000US12</td>\n",
       "      <td>138924199212</td>\n",
       "      <td>31386038155</td>\n",
       "      <td>12</td>\n",
       "      <td>00</td>\n",
       "      <td>Florida</td>\n",
       "      <td>12</td>\n",
       "      <td>00294478</td>\n",
       "      <td>FL</td>\n",
       "      <td>(POLYGON ((-80.176276 25.525054, -80.173949999...</td>\n",
       "    </tr>\n",
       "    <tr>\n",
       "      <th>35</th>\n",
       "      <td>0400000US21</td>\n",
       "      <td>102266279759</td>\n",
       "      <td>2388770991</td>\n",
       "      <td>21</td>\n",
       "      <td>00</td>\n",
       "      <td>Kentucky</td>\n",
       "      <td>21</td>\n",
       "      <td>01779786</td>\n",
       "      <td>KY</td>\n",
       "      <td>(POLYGON ((-89.405654 36.528165, -89.398685 36...</td>\n",
       "    </tr>\n",
       "    <tr>\n",
       "      <th>36</th>\n",
       "      <td>0400000US22</td>\n",
       "      <td>111904912452</td>\n",
       "      <td>23746303848</td>\n",
       "      <td>22</td>\n",
       "      <td>00</td>\n",
       "      <td>Louisiana</td>\n",
       "      <td>22</td>\n",
       "      <td>01629543</td>\n",
       "      <td>LA</td>\n",
       "      <td>(POLYGON ((-88.8677 29.861551, -88.86565899999...</td>\n",
       "    </tr>\n",
       "    <tr>\n",
       "      <th>37</th>\n",
       "      <td>0400000US23</td>\n",
       "      <td>79885221885</td>\n",
       "      <td>11748755195</td>\n",
       "      <td>23</td>\n",
       "      <td>00</td>\n",
       "      <td>Maine</td>\n",
       "      <td>23</td>\n",
       "      <td>01779787</td>\n",
       "      <td>ME</td>\n",
       "      <td>(POLYGON ((-67.32259499999999 44.611595, -67.3...</td>\n",
       "    </tr>\n",
       "    <tr>\n",
       "      <th>38</th>\n",
       "      <td>0400000US25</td>\n",
       "      <td>20204442852</td>\n",
       "      <td>7130620748</td>\n",
       "      <td>25</td>\n",
       "      <td>00</td>\n",
       "      <td>Massachusetts</td>\n",
       "      <td>25</td>\n",
       "      <td>00606926</td>\n",
       "      <td>MA</td>\n",
       "      <td>(POLYGON ((-70.234054 41.285653, -70.223608250...</td>\n",
       "    </tr>\n",
       "    <tr>\n",
       "      <th>39</th>\n",
       "      <td>0400000US26</td>\n",
       "      <td>146455251245</td>\n",
       "      <td>104031574060</td>\n",
       "      <td>26</td>\n",
       "      <td>00</td>\n",
       "      <td>Michigan</td>\n",
       "      <td>26</td>\n",
       "      <td>01779789</td>\n",
       "      <td>MI</td>\n",
       "      <td>(POLYGON ((-83.98756499999999 46.092853, -83.9...</td>\n",
       "    </tr>\n",
       "    <tr>\n",
       "      <th>40</th>\n",
       "      <td>0400000US29</td>\n",
       "      <td>178052653610</td>\n",
       "      <td>2487575477</td>\n",
       "      <td>29</td>\n",
       "      <td>00</td>\n",
       "      <td>Missouri</td>\n",
       "      <td>29</td>\n",
       "      <td>01779791</td>\n",
       "      <td>MO</td>\n",
       "      <td>POLYGON ((-95.773549 40.578205, -95.7685269999...</td>\n",
       "    </tr>\n",
       "    <tr>\n",
       "      <th>41</th>\n",
       "      <td>0400000US31</td>\n",
       "      <td>198972706218</td>\n",
       "      <td>1356290940</td>\n",
       "      <td>31</td>\n",
       "      <td>00</td>\n",
       "      <td>Nebraska</td>\n",
       "      <td>31</td>\n",
       "      <td>01779792</td>\n",
       "      <td>NE</td>\n",
       "      <td>POLYGON ((-104.053418545071 41.1705389679833, ...</td>\n",
       "    </tr>\n",
       "    <tr>\n",
       "      <th>42</th>\n",
       "      <td>0400000US33</td>\n",
       "      <td>23187396994</td>\n",
       "      <td>1028678842</td>\n",
       "      <td>33</td>\n",
       "      <td>00</td>\n",
       "      <td>New Hampshire</td>\n",
       "      <td>33</td>\n",
       "      <td>01779794</td>\n",
       "      <td>NH</td>\n",
       "      <td>(POLYGON ((-70.617025 42.977182, -70.615288999...</td>\n",
       "    </tr>\n",
       "    <tr>\n",
       "      <th>43</th>\n",
       "      <td>0400000US36</td>\n",
       "      <td>122053048985</td>\n",
       "      <td>19243095591</td>\n",
       "      <td>36</td>\n",
       "      <td>00</td>\n",
       "      <td>New York</td>\n",
       "      <td>36</td>\n",
       "      <td>01779796</td>\n",
       "      <td>NY</td>\n",
       "      <td>(POLYGON ((-72.0368298202051 41.2498425393847,...</td>\n",
       "    </tr>\n",
       "    <tr>\n",
       "      <th>44</th>\n",
       "      <td>0400000US37</td>\n",
       "      <td>125921301190</td>\n",
       "      <td>13470062955</td>\n",
       "      <td>37</td>\n",
       "      <td>00</td>\n",
       "      <td>North Carolina</td>\n",
       "      <td>37</td>\n",
       "      <td>01027616</td>\n",
       "      <td>NC</td>\n",
       "      <td>(POLYGON ((-77.098485 34.647023, -77.098422976...</td>\n",
       "    </tr>\n",
       "    <tr>\n",
       "      <th>45</th>\n",
       "      <td>0400000US39</td>\n",
       "      <td>105833122995</td>\n",
       "      <td>10264595056</td>\n",
       "      <td>39</td>\n",
       "      <td>00</td>\n",
       "      <td>Ohio</td>\n",
       "      <td>39</td>\n",
       "      <td>01085497</td>\n",
       "      <td>OH</td>\n",
       "      <td>(POLYGON ((-82.73570699999999 41.603361, -82.7...</td>\n",
       "    </tr>\n",
       "    <tr>\n",
       "      <th>46</th>\n",
       "      <td>0400000US41</td>\n",
       "      <td>248604268242</td>\n",
       "      <td>6195105690</td>\n",
       "      <td>41</td>\n",
       "      <td>00</td>\n",
       "      <td>Oregon</td>\n",
       "      <td>41</td>\n",
       "      <td>01155107</td>\n",
       "      <td>OR</td>\n",
       "      <td>(POLYGON ((-123.598916 46.251454, -123.598414 ...</td>\n",
       "    </tr>\n",
       "    <tr>\n",
       "      <th>47</th>\n",
       "      <td>0400000US44</td>\n",
       "      <td>2677898725</td>\n",
       "      <td>1323551636</td>\n",
       "      <td>44</td>\n",
       "      <td>00</td>\n",
       "      <td>Rhode Island</td>\n",
       "      <td>44</td>\n",
       "      <td>01219835</td>\n",
       "      <td>RI</td>\n",
       "      <td>(POLYGON ((-71.288017 41.645575, -71.286470999...</td>\n",
       "    </tr>\n",
       "    <tr>\n",
       "      <th>48</th>\n",
       "      <td>0400000US47</td>\n",
       "      <td>106797662267</td>\n",
       "      <td>2355188876</td>\n",
       "      <td>47</td>\n",
       "      <td>00</td>\n",
       "      <td>Tennessee</td>\n",
       "      <td>47</td>\n",
       "      <td>01325873</td>\n",
       "      <td>TN</td>\n",
       "      <td>POLYGON ((-90.31029799999999 35.004295, -90.30...</td>\n",
       "    </tr>\n",
       "    <tr>\n",
       "      <th>49</th>\n",
       "      <td>0400000US48</td>\n",
       "      <td>676633459408</td>\n",
       "      <td>19025991684</td>\n",
       "      <td>48</td>\n",
       "      <td>00</td>\n",
       "      <td>Texas</td>\n",
       "      <td>48</td>\n",
       "      <td>01779801</td>\n",
       "      <td>TX</td>\n",
       "      <td>(POLYGON ((-94.718296 29.728855, -94.717207 29...</td>\n",
       "    </tr>\n",
       "    <tr>\n",
       "      <th>50</th>\n",
       "      <td>0400000US51</td>\n",
       "      <td>102257320053</td>\n",
       "      <td>8528605825</td>\n",
       "      <td>51</td>\n",
       "      <td>00</td>\n",
       "      <td>Virginia</td>\n",
       "      <td>51</td>\n",
       "      <td>01779803</td>\n",
       "      <td>VA</td>\n",
       "      <td>(POLYGON ((-75.742406 37.80835, -75.741512 37....</td>\n",
       "    </tr>\n",
       "    <tr>\n",
       "      <th>51</th>\n",
       "      <td>0400000US53</td>\n",
       "      <td>172113416541</td>\n",
       "      <td>12558451099</td>\n",
       "      <td>53</td>\n",
       "      <td>00</td>\n",
       "      <td>Washington</td>\n",
       "      <td>53</td>\n",
       "      <td>01779804</td>\n",
       "      <td>WA</td>\n",
       "      <td>(POLYGON ((-122.33164 48.020556, -122.328343 4...</td>\n",
       "    </tr>\n",
       "    <tr>\n",
       "      <th>52</th>\n",
       "      <td>0400000US55</td>\n",
       "      <td>140273604537</td>\n",
       "      <td>29361386480</td>\n",
       "      <td>55</td>\n",
       "      <td>00</td>\n",
       "      <td>Wisconsin</td>\n",
       "      <td>55</td>\n",
       "      <td>01779806</td>\n",
       "      <td>WI</td>\n",
       "      <td>(POLYGON ((-86.95616699999999 45.355489, -86.9...</td>\n",
       "    </tr>\n",
       "    <tr>\n",
       "      <th>53</th>\n",
       "      <td>0400000US66</td>\n",
       "      <td>543558310</td>\n",
       "      <td>934334983</td>\n",
       "      <td>66</td>\n",
       "      <td>00</td>\n",
       "      <td>Guam</td>\n",
       "      <td>66</td>\n",
       "      <td>01802705</td>\n",
       "      <td>GU</td>\n",
       "      <td>(POLYGON ((144.645379 13.236271, 144.647162 13...</td>\n",
       "    </tr>\n",
       "    <tr>\n",
       "      <th>54</th>\n",
       "      <td>0400000US69</td>\n",
       "      <td>472276664</td>\n",
       "      <td>4644268325</td>\n",
       "      <td>69</td>\n",
       "      <td>00</td>\n",
       "      <td>Commonwealth of the Northern Mariana Islands</td>\n",
       "      <td>69</td>\n",
       "      <td>01779809</td>\n",
       "      <td>MP</td>\n",
       "      <td>(POLYGON ((146.051034 16.006741, 146.051668 16...</td>\n",
       "    </tr>\n",
       "    <tr>\n",
       "      <th>55</th>\n",
       "      <td>0400000US78</td>\n",
       "      <td>348013113</td>\n",
       "      <td>1550244955</td>\n",
       "      <td>78</td>\n",
       "      <td>00</td>\n",
       "      <td>United States Virgin Islands</td>\n",
       "      <td>78</td>\n",
       "      <td>01802710</td>\n",
       "      <td>VI</td>\n",
       "      <td>(POLYGON ((-64.6283631965854 17.7886953589897,...</td>\n",
       "    </tr>\n",
       "  </tbody>\n",
       "</table>\n",
       "</div>"
      ],
      "text/plain": [
       "       AFFGEOID          ALAND        AWATER GEOID LSAD  \\\n",
       "0   0400000US01   131173688951    4593686489    01   00   \n",
       "1   0400000US02  1477946266785  245390495931    02   00   \n",
       "2   0400000US04   294198560125    1027346486    04   00   \n",
       "3   0400000US05   134771517596    2960191698    05   00   \n",
       "4   0400000US06   403501101370   20466718403    06   00   \n",
       "5   0400000US08   268429343790    1175112870    08   00   \n",
       "6   0400000US09    12542638347    1815476291    09   00   \n",
       "7   0400000US10     5047194742    1398720828    10   00   \n",
       "8   0400000US11      158364992      18633403    11   00   \n",
       "9   0400000US13   149169848456    4741100880    13   00   \n",
       "10  0400000US15    16634100855   11777698394    15   00   \n",
       "11  0400000US16   214042908012    2398669593    16   00   \n",
       "12  0400000US17   143788697679    6206693598    17   00   \n",
       "13  0400000US18    92790545247    1536767065    18   00   \n",
       "14  0400000US19   144667643793    1077808017    19   00   \n",
       "15  0400000US20   211753253104    1346235678    20   00   \n",
       "16  0400000US24    25147754905    6983312282    24   00   \n",
       "17  0400000US27   206232257655   18929176411    27   00   \n",
       "18  0400000US28   121529933533    3930505829    28   00   \n",
       "19  0400000US30   376964956503    3866986696    30   00   \n",
       "20  0400000US32   284329326845    2047350887    32   00   \n",
       "21  0400000US34    19050755048    3541927612    34   00   \n",
       "22  0400000US35   314169362533     755722962    35   00   \n",
       "23  0400000US38   178711813026    4399093501    38   00   \n",
       "24  0400000US40   177663722167    3373836066    40   00   \n",
       "25  0400000US42   115882226263    3396805575    42   00   \n",
       "26  0400000US45    77861720871    5070943755    45   00   \n",
       "27  0400000US46   196348407642    3380782733    46   00   \n",
       "28  0400000US49   212885517115    6999529104    49   00   \n",
       "29  0400000US50    23873467535    1031124865    50   00   \n",
       "30  0400000US54    62265597146     489902816    54   00   \n",
       "31  0400000US56   251464935120    1861273298    56   00   \n",
       "32  0400000US60      197759069    1307243753    60   00   \n",
       "33  0400000US72     8868100460    4923178155    72   00   \n",
       "34  0400000US12   138924199212   31386038155    12   00   \n",
       "35  0400000US21   102266279759    2388770991    21   00   \n",
       "36  0400000US22   111904912452   23746303848    22   00   \n",
       "37  0400000US23    79885221885   11748755195    23   00   \n",
       "38  0400000US25    20204442852    7130620748    25   00   \n",
       "39  0400000US26   146455251245  104031574060    26   00   \n",
       "40  0400000US29   178052653610    2487575477    29   00   \n",
       "41  0400000US31   198972706218    1356290940    31   00   \n",
       "42  0400000US33    23187396994    1028678842    33   00   \n",
       "43  0400000US36   122053048985   19243095591    36   00   \n",
       "44  0400000US37   125921301190   13470062955    37   00   \n",
       "45  0400000US39   105833122995   10264595056    39   00   \n",
       "46  0400000US41   248604268242    6195105690    41   00   \n",
       "47  0400000US44     2677898725    1323551636    44   00   \n",
       "48  0400000US47   106797662267    2355188876    47   00   \n",
       "49  0400000US48   676633459408   19025991684    48   00   \n",
       "50  0400000US51   102257320053    8528605825    51   00   \n",
       "51  0400000US53   172113416541   12558451099    53   00   \n",
       "52  0400000US55   140273604537   29361386480    55   00   \n",
       "53  0400000US66      543558310     934334983    66   00   \n",
       "54  0400000US69      472276664    4644268325    69   00   \n",
       "55  0400000US78      348013113    1550244955    78   00   \n",
       "\n",
       "                                            NAME STATEFP   STATENS STUSPS  \\\n",
       "0                                        Alabama      01  01779775     AL   \n",
       "1                                         Alaska      02  01785533     AK   \n",
       "2                                        Arizona      04  01779777     AZ   \n",
       "3                                       Arkansas      05  00068085     AR   \n",
       "4                                     California      06  01779778     CA   \n",
       "5                                       Colorado      08  01779779     CO   \n",
       "6                                    Connecticut      09  01779780     CT   \n",
       "7                                       Delaware      10  01779781     DE   \n",
       "8                           District of Columbia      11  01702382     DC   \n",
       "9                                        Georgia      13  01705317     GA   \n",
       "10                                        Hawaii      15  01779782     HI   \n",
       "11                                         Idaho      16  01779783     ID   \n",
       "12                                      Illinois      17  01779784     IL   \n",
       "13                                       Indiana      18  00448508     IN   \n",
       "14                                          Iowa      19  01779785     IA   \n",
       "15                                        Kansas      20  00481813     KS   \n",
       "16                                      Maryland      24  01714934     MD   \n",
       "17                                     Minnesota      27  00662849     MN   \n",
       "18                                   Mississippi      28  01779790     MS   \n",
       "19                                       Montana      30  00767982     MT   \n",
       "20                                        Nevada      32  01779793     NV   \n",
       "21                                    New Jersey      34  01779795     NJ   \n",
       "22                                    New Mexico      35  00897535     NM   \n",
       "23                                  North Dakota      38  01779797     ND   \n",
       "24                                      Oklahoma      40  01102857     OK   \n",
       "25                                  Pennsylvania      42  01779798     PA   \n",
       "26                                South Carolina      45  01779799     SC   \n",
       "27                                  South Dakota      46  01785534     SD   \n",
       "28                                          Utah      49  01455989     UT   \n",
       "29                                       Vermont      50  01779802     VT   \n",
       "30                                 West Virginia      54  01779805     WV   \n",
       "31                                       Wyoming      56  01779807     WY   \n",
       "32                                American Samoa      60  01802701     AS   \n",
       "33                                   Puerto Rico      72  01779808     PR   \n",
       "34                                       Florida      12  00294478     FL   \n",
       "35                                      Kentucky      21  01779786     KY   \n",
       "36                                     Louisiana      22  01629543     LA   \n",
       "37                                         Maine      23  01779787     ME   \n",
       "38                                 Massachusetts      25  00606926     MA   \n",
       "39                                      Michigan      26  01779789     MI   \n",
       "40                                      Missouri      29  01779791     MO   \n",
       "41                                      Nebraska      31  01779792     NE   \n",
       "42                                 New Hampshire      33  01779794     NH   \n",
       "43                                      New York      36  01779796     NY   \n",
       "44                                North Carolina      37  01027616     NC   \n",
       "45                                          Ohio      39  01085497     OH   \n",
       "46                                        Oregon      41  01155107     OR   \n",
       "47                                  Rhode Island      44  01219835     RI   \n",
       "48                                     Tennessee      47  01325873     TN   \n",
       "49                                         Texas      48  01779801     TX   \n",
       "50                                      Virginia      51  01779803     VA   \n",
       "51                                    Washington      53  01779804     WA   \n",
       "52                                     Wisconsin      55  01779806     WI   \n",
       "53                                          Guam      66  01802705     GU   \n",
       "54  Commonwealth of the Northern Mariana Islands      69  01779809     MP   \n",
       "55                  United States Virgin Islands      78  01802710     VI   \n",
       "\n",
       "                                             geometry  \n",
       "0   (POLYGON ((-88.053375 30.506987, -88.051087999...  \n",
       "1   (POLYGON ((-134.737262 58.261354, -134.73441 5...  \n",
       "2   POLYGON ((-114.816294 32.508038, -114.814321 3...  \n",
       "3   POLYGON ((-94.6178329666013 36.4994141203285, ...  \n",
       "4   (POLYGON ((-118.604415 33.478552, -118.598783 ...  \n",
       "5   POLYGON ((-109.060253 38.599328, -109.059541 3...  \n",
       "6   (POLYGON ((-72.761427 41.242333, -72.759733 41...  \n",
       "7   (POLYGON ((-75.565546 39.51485, -75.5617429999...  \n",
       "8   POLYGON ((-77.119759 38.934343, -77.1125318000...  \n",
       "9   (POLYGON ((-81.27939099999999 31.30792, -81.27...  \n",
       "10  (POLYGON ((-175.741258 27.924056, -175.736313 ...  \n",
       "11  POLYGON ((-117.242675 44.396548, -117.234835 4...  \n",
       "12  POLYGON ((-91.512974 40.181062, -91.511073 40....  \n",
       "13  POLYGON ((-88.09775999999999 37.904026, -88.09...  \n",
       "14  POLYGON ((-96.63970399999999 42.737071, -96.63...  \n",
       "15  POLYGON ((-102.051744 40.003078, -101.916696 4...  \n",
       "16  (POLYGON ((-76.05015299999999 37.986905, -76.0...  \n",
       "17  (POLYGON ((-89.59205799999999 47.966683, -89.5...  \n",
       "18  (POLYGON ((-88.502966 30.215235, -88.491759 30...  \n",
       "19  POLYGON ((-116.049667201931 48.4403221865285, ...  \n",
       "20  POLYGON ((-120.005743 39.22866399999999, -120....  \n",
       "21  POLYGON ((-75.559102 39.629056, -75.5594459999...  \n",
       "22  POLYGON ((-109.050173 31.480004, -109.049843 3...  \n",
       "23  POLYGON ((-104.048652 48.865734, -104.048824 4...  \n",
       "24  POLYGON ((-103.002565 36.526588, -103.002188 3...  \n",
       "25  POLYGON ((-80.519891 40.906661, -80.519091 40....  \n",
       "26  (POLYGON ((-79.507948 33.020076, -79.507132 33...  \n",
       "27  POLYGON ((-104.057698 44.997431, -104.049505 4...  \n",
       "28  POLYGON ((-114.052962 37.592783, -114.052472 3...  \n",
       "29  POLYGON ((-73.43773999999999 44.045006, -73.43...  \n",
       "30  POLYGON ((-82.6431981036679 38.1690897960737, ...  \n",
       "31  POLYGON ((-111.056888 44.866658, -111.055629 4...  \n",
       "32  (POLYGON ((-168.145824 -14.547906, -168.145605...  \n",
       "33  (POLYGON ((-65.23805299999999 18.321667, -65.2...  \n",
       "34  (POLYGON ((-80.176276 25.525054, -80.173949999...  \n",
       "35  (POLYGON ((-89.405654 36.528165, -89.398685 36...  \n",
       "36  (POLYGON ((-88.8677 29.861551, -88.86565899999...  \n",
       "37  (POLYGON ((-67.32259499999999 44.611595, -67.3...  \n",
       "38  (POLYGON ((-70.234054 41.285653, -70.223608250...  \n",
       "39  (POLYGON ((-83.98756499999999 46.092853, -83.9...  \n",
       "40  POLYGON ((-95.773549 40.578205, -95.7685269999...  \n",
       "41  POLYGON ((-104.053418545071 41.1705389679833, ...  \n",
       "42  (POLYGON ((-70.617025 42.977182, -70.615288999...  \n",
       "43  (POLYGON ((-72.0368298202051 41.2498425393847,...  \n",
       "44  (POLYGON ((-77.098485 34.647023, -77.098422976...  \n",
       "45  (POLYGON ((-82.73570699999999 41.603361, -82.7...  \n",
       "46  (POLYGON ((-123.598916 46.251454, -123.598414 ...  \n",
       "47  (POLYGON ((-71.288017 41.645575, -71.286470999...  \n",
       "48  POLYGON ((-90.31029799999999 35.004295, -90.30...  \n",
       "49  (POLYGON ((-94.718296 29.728855, -94.717207 29...  \n",
       "50  (POLYGON ((-75.742406 37.80835, -75.741512 37....  \n",
       "51  (POLYGON ((-122.33164 48.020556, -122.328343 4...  \n",
       "52  (POLYGON ((-86.95616699999999 45.355489, -86.9...  \n",
       "53  (POLYGON ((144.645379 13.236271, 144.647162 13...  \n",
       "54  (POLYGON ((146.051034 16.006741, 146.051668 16...  \n",
       "55  (POLYGON ((-64.6283631965854 17.7886953589897,...  "
      ]
     },
     "execution_count": 7,
     "metadata": {},
     "output_type": "execute_result"
    }
   ],
   "source": [
    "states = gpd.read_file(\"cb_2016_us_state_500k.shp\")\n",
    "states"
   ]
  },
  {
   "cell_type": "code",
   "execution_count": 8,
   "metadata": {
    "collapsed": true
   },
   "outputs": [],
   "source": [
    "states = states.drop(states.index[[1, 10, 32, 33, 53, 54, 55]])"
   ]
  },
  {
   "cell_type": "code",
   "execution_count": 9,
   "metadata": {},
   "outputs": [
    {
     "data": {
      "text/plain": [
       "<matplotlib.axes._subplots.AxesSubplot at 0x109f90860>"
      ]
     },
     "execution_count": 9,
     "metadata": {},
     "output_type": "execute_result"
    },
    {
     "data": {
      "image/png": "[encoded data removed]",
      "text/plain": [
       "<matplotlib.figure.Figure at 0x1073c97f0>"
      ]
     },
     "metadata": {},
     "output_type": "display_data"
    },
    {
     "data": {
      "image/png": "[encoded data removed]",
      "text/plain": [
       "<matplotlib.figure.Figure at 0x108c05f28>"
      ]
     },
     "metadata": {},
     "output_type": "display_data"
    }
   ],
   "source": [
    "points = df.apply(lambda row: Point(row.longitude, row.latitude), axis=1)\n",
    "locations = gpd.GeoDataFrame(df, geometry=points)\n",
    "locations.crs = {'init' : 'epsg:4326'}\n",
    "states = states.to_crs(locations.crs)\n",
    "states.plot()\n",
    "locations.plot()"
   ]
  },
  {
   "cell_type": "code",
   "execution_count": 10,
   "metadata": {},
   "outputs": [
    {
     "data": {
      "text/plain": [
       "(-127.74272139999999,\n",
       " -62.190346600000005,\n",
       " 23.249850799999997,\n",
       " 51.261245199999998)"
      ]
     },
     "execution_count": 10,
     "metadata": {},
     "output_type": "execute_result"
    },
    {
     "data": {
      "image/png": "[encoded data removed]",
      "text/plain": [
       "<matplotlib.figure.Figure at 0x10b097160>"
      ]
     },
     "metadata": {},
     "output_type": "display_data"
    }
   ],
   "source": [
    "ax = states.plot(figsize=(25,10), linewidth=0.25, edgecolor='white', color='lightgrey') \n",
    "locations.plot(figsize=(25,10), linewidth=0, markersize=5, alpha=0.5, color='red', ax=ax)\n",
    "ax.axis('off')"
   ]
  },
  {
   "cell_type": "code",
   "execution_count": null,
   "metadata": {
    "collapsed": true
   },
   "outputs": [],
   "source": [
    "# According to the ANSS, it comes as a result of induced seismicity caused by \n",
    "#deep underground disposal of waste water resulting from oil and gas recovery. \n",
    "# For that reason the ANSS has asked for additional resources of at least $1.5 million \n",
    "# per year (on top of already allocated $2.5 million) that will be used to support \n",
    "# operations of the existing stations, to integrate data from these stations \n",
    "# into existing data analysis procedures and to further improve strong-motion station average.\n",
    "# The goal is to increase understanding of seismic danger \n",
    "# and societal risk in the eastern half of the US. "
   ]
  },
  {
   "cell_type": "code",
   "execution_count": 11,
   "metadata": {
    "collapsed": true
   },
   "outputs": [],
   "source": [
    "df_2017 = pd.read_csv(\"Quakes1017.csv\")"
   ]
  },
  {
   "cell_type": "code",
   "execution_count": 12,
   "metadata": {},
   "outputs": [
    {
     "data": {
      "text/plain": [
       "(2937, 22)"
      ]
     },
     "execution_count": 12,
     "metadata": {},
     "output_type": "execute_result"
    }
   ],
   "source": [
    "df_2017.shape"
   ]
  },
  {
   "cell_type": "code",
   "execution_count": 13,
   "metadata": {},
   "outputs": [
    {
     "data": {
      "text/plain": [
       "<matplotlib.axes._subplots.AxesSubplot at 0x10ec01940>"
      ]
     },
     "execution_count": 13,
     "metadata": {},
     "output_type": "execute_result"
    },
    {
     "data": {
      "image/png": "[encoded data removed]",
      "text/plain": [
       "<matplotlib.figure.Figure at 0x1017ea748>"
      ]
     },
     "metadata": {},
     "output_type": "display_data"
    },
    {
     "data": {
      "image/png": "[encoded data removed]",
      "text/plain": [
       "<matplotlib.figure.Figure at 0x10c9df4a8>"
      ]
     },
     "metadata": {},
     "output_type": "display_data"
    }
   ],
   "source": [
    "points = df_2017.apply(lambda row: Point(row.longitude, row.latitude), axis=1)\n",
    "locations = gpd.GeoDataFrame(df_2017, geometry=points)\n",
    "locations.crs = {'init' : 'epsg:4326'}\n",
    "states = states.to_crs(locations.crs)\n",
    "states.plot()\n",
    "locations.plot()"
   ]
  },
  {
   "cell_type": "code",
   "execution_count": 14,
   "metadata": {},
   "outputs": [
    {
     "data": {
      "text/plain": [
       "<matplotlib.axes._subplots.AxesSubplot at 0x1123364a8>"
      ]
     },
     "execution_count": 14,
     "metadata": {},
     "output_type": "execute_result"
    },
    {
     "data": {
      "image/png": "[encoded data removed]",
      "text/plain": [
       "<matplotlib.figure.Figure at 0x10c708160>"
      ]
     },
     "metadata": {},
     "output_type": "display_data"
    }
   ],
   "source": [
    "ax = states.plot(figsize=(25,10), linewidth=0.25, edgecolor='white', color='lightgrey') \n",
    "locations.plot(figsize=(25,10), linewidth=0, markersize=5, alpha=0.5, color='green', ax=ax)"
   ]
  },
  {
   "cell_type": "code",
   "execution_count": 15,
   "metadata": {},
   "outputs": [
    {
     "data": {
      "text/plain": [
       "[-100, -95, 32, 38]"
      ]
     },
     "execution_count": 15,
     "metadata": {},
     "output_type": "execute_result"
    },
    {
     "data": {
      "image/png": "[encoded data removed]",
      "text/plain": [
       "<matplotlib.figure.Figure at 0x113f7b550>"
      ]
     },
     "metadata": {},
     "output_type": "display_data"
    }
   ],
   "source": [
    "ax = states.plot(figsize=(25,10), linewidth=0.25, edgecolor='white', color='lightgrey') \n",
    "locations.plot(figsize=(25,10), linewidth=0, markersize=5, alpha=0.5, color='green', ax=ax)\n",
    "ax.axis([-100, -95, 32, 38 ])"
   ]
  },
  {
   "cell_type": "code",
   "execution_count": null,
   "metadata": {
    "collapsed": true
   },
   "outputs": [],
   "source": [
    "# We can see that the number of earthquakes has increased by 967% during the current decade\n",
    "# compared with the previous one. But Oklahoma has been the main reason for this as\n",
    "# the extremely green densed formation of dots indicates on the map.\n",
    "# Despite the recent drop in earthquake rates (in 2016), Oklahoma and southern Kansas \n",
    "# still face a significant risk of induced earthquake damage in 2017, according to the \n",
    "# USGS report published March 1 in the journal Seismological Research Letters."
   ]
  },
  {
   "cell_type": "code",
   "execution_count": null,
   "metadata": {
    "collapsed": true
   },
   "outputs": [],
   "source": [
    "# The 2017 forecast is the follow-up to a similar report in 2016, which was the first \n",
    "# to consider seismic hazards from both induced and natural earthquakes \n",
    "# in the central and eastern U.S. over a one-year timeframe. \n",
    "# USGS' Mark Petersen and colleagues found that there were lower rates of \n",
    "# earthquakes in 2016 compared to 2015 in five key areas: Oklahoma-Kansas, \n",
    "# the Raton Basin along the Colorado-New Mexico border, north Texas, \n",
    "# north Arkansas, and the New Madrid seismic zone \n",
    "# (which ruptures in natural earthquakes) extending from Illinois to Mississippi."
   ]
  },
  {
   "cell_type": "code",
   "execution_count": null,
   "metadata": {
    "collapsed": true
   },
   "outputs": [],
   "source": [
    "#Wastewater injection in this region may have decreased in 2016 due to \n",
    "#new regulations for its disposal, or slowed due to lower oil prices \n",
    "# and less overall production.\n",
    "#\"We understand, for example, that there were industry regulations \n",
    "# introduced in Oklahoma [in 2016] by the Oklahoma Corporation Commission, \n",
    "# that reduced the amount of injection in some areas by up to 40 percent,\" Petersen explained."
   ]
  },
  {
   "cell_type": "code",
   "execution_count": null,
   "metadata": {
    "collapsed": true
   },
   "outputs": [],
   "source": [
    "#A 3.2 magnitude earthquake hit Augusta on Tuesday morning 07/20, the U.S. Geological \n",
    "#Survey reports.There were no immediate reports of damage, \n",
    "# according to Augusta-Richmond County, Emergency Management Agency. \n",
    "# The agency’s disaster preparedness coordinator, \n",
    "# Mie Lucas, said the 911 center got a lot of calls with residents asking: “What was that?”\n",
    "# The quake was centered roughly four miles southwest of downtown Augusta \n",
    "# and went eight miles deep at 11:14 a.m., the U.S. Geological Survey said. \n",
    "# About 1,800 people have reported feeling the earthquake, \n",
    "# from all around Augusta and the Aiken, South Carolina area."
   ]
  },
  {
   "cell_type": "code",
   "execution_count": null,
   "metadata": {
    "collapsed": true
   },
   "outputs": [],
   "source": [
    "# The number of earthquakes in the central and eastern United States has dramatically \n",
    "# increased over the past decade, according to the U.S. Geological Survey. \n",
    "# Most of this recent increase is believed to be induced seismicity caused by \n",
    "# the deep underground disposal of waste water resulting from oil and gas recovery processes"
   ]
  },
  {
   "cell_type": "code",
   "execution_count": 16,
   "metadata": {
    "collapsed": true
   },
   "outputs": [],
   "source": [
    "df_70 = pd.read_csv(\"QuakesCentral.csv\")"
   ]
  },
  {
   "cell_type": "code",
   "execution_count": 17,
   "metadata": {},
   "outputs": [
    {
     "data": {
      "text/plain": [
       "(3895, 22)"
      ]
     },
     "execution_count": 17,
     "metadata": {},
     "output_type": "execute_result"
    }
   ],
   "source": [
    "df_70.shape"
   ]
  },
  {
   "cell_type": "code",
   "execution_count": 15,
   "metadata": {},
   "outputs": [
    {
     "data": {
      "text/plain": [
       "(0, 22)"
      ]
     },
     "execution_count": 15,
     "metadata": {},
     "output_type": "execute_result"
    }
   ],
   "source": [
    "quakes1970 = df_70[df_70.time.str.contains(\"1970\")]\n",
    "quakes1970.shape"
   ]
  },
  {
   "cell_type": "code",
   "execution_count": 16,
   "metadata": {},
   "outputs": [
    {
     "data": {
      "text/plain": [
       "(0, 22)"
      ]
     },
     "execution_count": 16,
     "metadata": {},
     "output_type": "execute_result"
    }
   ],
   "source": [
    "quakes1971 = df_70[df_70.time.str.contains(\"1971\")]\n",
    "quakes1971.shape"
   ]
  },
  {
   "cell_type": "code",
   "execution_count": 17,
   "metadata": {},
   "outputs": [
    {
     "data": {
      "text/plain": [
       "(0, 22)"
      ]
     },
     "execution_count": 17,
     "metadata": {},
     "output_type": "execute_result"
    }
   ],
   "source": [
    "quakes1972 = df_70[df_70.time.str.contains(\"1972\")]\n",
    "quakes1972.shape"
   ]
  },
  {
   "cell_type": "code",
   "execution_count": 18,
   "metadata": {},
   "outputs": [
    {
     "data": {
      "text/plain": [
       "(11, 22)"
      ]
     },
     "execution_count": 18,
     "metadata": {},
     "output_type": "execute_result"
    }
   ],
   "source": [
    "quakes1973 = df_70[df_70.time.str.contains(\"1973\")]\n",
    "quakes1973.shape"
   ]
  },
  {
   "cell_type": "code",
   "execution_count": 19,
   "metadata": {},
   "outputs": [
    {
     "data": {
      "text/plain": [
       "(25, 22)"
      ]
     },
     "execution_count": 19,
     "metadata": {},
     "output_type": "execute_result"
    }
   ],
   "source": [
    "quakes1974 = df_70[df_70.time.str.contains(\"1974\")]\n",
    "quakes1974.shape"
   ]
  },
  {
   "cell_type": "code",
   "execution_count": 20,
   "metadata": {},
   "outputs": [
    {
     "data": {
      "text/plain": [
       "(21, 22)"
      ]
     },
     "execution_count": 20,
     "metadata": {},
     "output_type": "execute_result"
    }
   ],
   "source": [
    "quakes1975 = df_70[df_70.time.str.contains(\"1975\")]\n",
    "quakes1975.shape"
   ]
  },
  {
   "cell_type": "code",
   "execution_count": 21,
   "metadata": {},
   "outputs": [
    {
     "data": {
      "text/plain": [
       "(19, 22)"
      ]
     },
     "execution_count": 21,
     "metadata": {},
     "output_type": "execute_result"
    }
   ],
   "source": [
    "quakes1976 = df_70[df_70.time.str.contains(\"1976\")]\n",
    "quakes1976.shape"
   ]
  },
  {
   "cell_type": "code",
   "execution_count": 22,
   "metadata": {},
   "outputs": [
    {
     "data": {
      "text/plain": [
       "(19, 22)"
      ]
     },
     "execution_count": 22,
     "metadata": {},
     "output_type": "execute_result"
    }
   ],
   "source": [
    "quakes1977 = df_70[df_70.time.str.contains(\"1977\")]\n",
    "quakes1977.shape"
   ]
  },
  {
   "cell_type": "code",
   "execution_count": 146,
   "metadata": {},
   "outputs": [
    {
     "data": {
      "text/plain": [
       "(30, 22)"
      ]
     },
     "execution_count": 146,
     "metadata": {},
     "output_type": "execute_result"
    }
   ],
   "source": [
    "quakes1978 = df_70[df_70.time.str.contains(\"1978\")]\n",
    "quakes1978.shape"
   ]
  },
  {
   "cell_type": "code",
   "execution_count": 23,
   "metadata": {},
   "outputs": [
    {
     "data": {
      "text/plain": [
       "(19, 22)"
      ]
     },
     "execution_count": 23,
     "metadata": {},
     "output_type": "execute_result"
    }
   ],
   "source": [
    "quakes1979 = df_70[df_70.time.str.contains(\"1979\")]\n",
    "quakes1979.shape"
   ]
  },
  {
   "cell_type": "code",
   "execution_count": 24,
   "metadata": {},
   "outputs": [
    {
     "data": {
      "text/plain": [
       "(18, 22)"
      ]
     },
     "execution_count": 24,
     "metadata": {},
     "output_type": "execute_result"
    }
   ],
   "source": [
    "quakes1980 = df_70[df_70.time.str.contains(\"1980\")]\n",
    "quakes1980.shape"
   ]
  },
  {
   "cell_type": "code",
   "execution_count": 25,
   "metadata": {},
   "outputs": [
    {
     "data": {
      "text/plain": [
       "(21, 22)"
      ]
     },
     "execution_count": 25,
     "metadata": {},
     "output_type": "execute_result"
    }
   ],
   "source": [
    "quakes1981 = df_70[df_70.time.str.contains(\"1981\")]\n",
    "quakes1981.shape"
   ]
  },
  {
   "cell_type": "code",
   "execution_count": 26,
   "metadata": {},
   "outputs": [
    {
     "data": {
      "text/plain": [
       "(49, 22)"
      ]
     },
     "execution_count": 26,
     "metadata": {},
     "output_type": "execute_result"
    }
   ],
   "source": [
    "quakes1982 = df_70[df_70.time.str.contains(\"1982\")]\n",
    "quakes1982.shape"
   ]
  },
  {
   "cell_type": "code",
   "execution_count": 27,
   "metadata": {},
   "outputs": [
    {
     "data": {
      "text/plain": [
       "(41, 22)"
      ]
     },
     "execution_count": 27,
     "metadata": {},
     "output_type": "execute_result"
    }
   ],
   "source": [
    "quakes1983 = df_70[df_70.time.str.contains(\"1983\")]\n",
    "quakes1983.shape"
   ]
  },
  {
   "cell_type": "code",
   "execution_count": 28,
   "metadata": {},
   "outputs": [
    {
     "data": {
      "text/plain": [
       "(41, 22)"
      ]
     },
     "execution_count": 28,
     "metadata": {},
     "output_type": "execute_result"
    }
   ],
   "source": [
    "quakes1984 = df_70[df_70.time.str.contains(\"1984\")]\n",
    "quakes1984.shape"
   ]
  },
  {
   "cell_type": "code",
   "execution_count": 29,
   "metadata": {},
   "outputs": [
    {
     "data": {
      "text/plain": [
       "(18, 22)"
      ]
     },
     "execution_count": 29,
     "metadata": {},
     "output_type": "execute_result"
    }
   ],
   "source": [
    "quakes1985 = df_70[df_70.time.str.contains(\"1985\")]\n",
    "quakes1985.shape"
   ]
  },
  {
   "cell_type": "code",
   "execution_count": 30,
   "metadata": {},
   "outputs": [
    {
     "data": {
      "text/plain": [
       "(26, 22)"
      ]
     },
     "execution_count": 30,
     "metadata": {},
     "output_type": "execute_result"
    }
   ],
   "source": [
    "quakes1986 = df_70[df_70.time.str.contains(\"1986\")]\n",
    "quakes1986.shape"
   ]
  },
  {
   "cell_type": "code",
   "execution_count": 31,
   "metadata": {},
   "outputs": [
    {
     "data": {
      "text/plain": [
       "(27, 22)"
      ]
     },
     "execution_count": 31,
     "metadata": {},
     "output_type": "execute_result"
    }
   ],
   "source": [
    "quakes1987 = df_70[df_70.time.str.contains(\"1987\")]\n",
    "quakes1987.shape"
   ]
  },
  {
   "cell_type": "code",
   "execution_count": 32,
   "metadata": {},
   "outputs": [
    {
     "data": {
      "text/plain": [
       "(31, 22)"
      ]
     },
     "execution_count": 32,
     "metadata": {},
     "output_type": "execute_result"
    }
   ],
   "source": [
    "quakes1988 = df_70[df_70.time.str.contains(\"1988\")]\n",
    "quakes1988.shape"
   ]
  },
  {
   "cell_type": "code",
   "execution_count": 33,
   "metadata": {},
   "outputs": [
    {
     "data": {
      "text/plain": [
       "(19, 22)"
      ]
     },
     "execution_count": 33,
     "metadata": {},
     "output_type": "execute_result"
    }
   ],
   "source": [
    "quakes1989 = df_70[df_70.time.str.contains(\"1989\")]\n",
    "quakes1989.shape"
   ]
  },
  {
   "cell_type": "code",
   "execution_count": 34,
   "metadata": {},
   "outputs": [
    {
     "data": {
      "text/plain": [
       "(28, 22)"
      ]
     },
     "execution_count": 34,
     "metadata": {},
     "output_type": "execute_result"
    }
   ],
   "source": [
    "quakes1990 = df_70[df_70.time.str.contains(\"1990\")]\n",
    "quakes1990.shape"
   ]
  },
  {
   "cell_type": "code",
   "execution_count": 35,
   "metadata": {},
   "outputs": [
    {
     "data": {
      "text/plain": [
       "(23, 22)"
      ]
     },
     "execution_count": 35,
     "metadata": {},
     "output_type": "execute_result"
    }
   ],
   "source": [
    "quakes1991 = df_70[df_70.time.str.contains(\"1991\")]\n",
    "quakes1991.shape"
   ]
  },
  {
   "cell_type": "code",
   "execution_count": 36,
   "metadata": {},
   "outputs": [
    {
     "data": {
      "text/plain": [
       "(20, 22)"
      ]
     },
     "execution_count": 36,
     "metadata": {},
     "output_type": "execute_result"
    }
   ],
   "source": [
    "quakes1992 = df_70[df_70.time.str.contains(\"1992\")]\n",
    "quakes1992.shape"
   ]
  },
  {
   "cell_type": "code",
   "execution_count": 37,
   "metadata": {},
   "outputs": [
    {
     "data": {
      "text/plain": [
       "(26, 22)"
      ]
     },
     "execution_count": 37,
     "metadata": {},
     "output_type": "execute_result"
    }
   ],
   "source": [
    "quakes1993 = df_70[df_70.time.str.contains(\"1993\")]\n",
    "quakes1993.shape"
   ]
  },
  {
   "cell_type": "code",
   "execution_count": 38,
   "metadata": {},
   "outputs": [
    {
     "data": {
      "text/plain": [
       "(32, 22)"
      ]
     },
     "execution_count": 38,
     "metadata": {},
     "output_type": "execute_result"
    }
   ],
   "source": [
    "quakes1994 = df_70[df_70.time.str.contains(\"1994\")]\n",
    "quakes1994.shape"
   ]
  },
  {
   "cell_type": "code",
   "execution_count": 39,
   "metadata": {},
   "outputs": [
    {
     "data": {
      "text/plain": [
       "(28, 22)"
      ]
     },
     "execution_count": 39,
     "metadata": {},
     "output_type": "execute_result"
    }
   ],
   "source": [
    "quakes1995 = df_70[df_70.time.str.contains(\"1995\")]\n",
    "quakes1995.shape"
   ]
  },
  {
   "cell_type": "code",
   "execution_count": 40,
   "metadata": {},
   "outputs": [
    {
     "data": {
      "text/plain": [
       "(11, 22)"
      ]
     },
     "execution_count": 40,
     "metadata": {},
     "output_type": "execute_result"
    }
   ],
   "source": [
    "quakes1996 = df_70[df_70.time.str.contains(\"1996\")]\n",
    "quakes1996.shape"
   ]
  },
  {
   "cell_type": "code",
   "execution_count": 41,
   "metadata": {},
   "outputs": [
    {
     "data": {
      "text/plain": [
       "(22, 22)"
      ]
     },
     "execution_count": 41,
     "metadata": {},
     "output_type": "execute_result"
    }
   ],
   "source": [
    "quakes1997 = df_70[df_70.time.str.contains(\"1997\")]\n",
    "quakes1997.shape"
   ]
  },
  {
   "cell_type": "code",
   "execution_count": 42,
   "metadata": {},
   "outputs": [
    {
     "data": {
      "text/plain": [
       "(20, 22)"
      ]
     },
     "execution_count": 42,
     "metadata": {},
     "output_type": "execute_result"
    }
   ],
   "source": [
    "quakes1998 = df_70[df_70.time.str.contains(\"1998\")]\n",
    "quakes1998.shape"
   ]
  },
  {
   "cell_type": "code",
   "execution_count": 43,
   "metadata": {},
   "outputs": [
    {
     "data": {
      "text/plain": [
       "(16, 22)"
      ]
     },
     "execution_count": 43,
     "metadata": {},
     "output_type": "execute_result"
    }
   ],
   "source": [
    "quakes1999 = df_70[df_70.time.str.contains(\"1999\")]\n",
    "quakes1999.shape"
   ]
  },
  {
   "cell_type": "code",
   "execution_count": 44,
   "metadata": {},
   "outputs": [
    {
     "data": {
      "text/plain": [
       "(20, 22)"
      ]
     },
     "execution_count": 44,
     "metadata": {},
     "output_type": "execute_result"
    }
   ],
   "source": [
    "quakes2000 = df_70[df_70.time.str.contains(\"2000\")]\n",
    "quakes2000.shape"
   ]
  },
  {
   "cell_type": "code",
   "execution_count": 45,
   "metadata": {},
   "outputs": [
    {
     "data": {
      "text/plain": [
       "(21, 22)"
      ]
     },
     "execution_count": 45,
     "metadata": {},
     "output_type": "execute_result"
    }
   ],
   "source": [
    "quakes2001 = df_70[df_70.time.str.contains(\"2001\")]\n",
    "quakes2001.shape"
   ]
  },
  {
   "cell_type": "code",
   "execution_count": 46,
   "metadata": {},
   "outputs": [
    {
     "data": {
      "text/plain": [
       "(31, 22)"
      ]
     },
     "execution_count": 46,
     "metadata": {},
     "output_type": "execute_result"
    }
   ],
   "source": [
    "quakes2002 = df_70[df_70.time.str.contains(\"2002\")]\n",
    "quakes2002.shape"
   ]
  },
  {
   "cell_type": "code",
   "execution_count": 47,
   "metadata": {},
   "outputs": [
    {
     "data": {
      "text/plain": [
       "(27, 22)"
      ]
     },
     "execution_count": 47,
     "metadata": {},
     "output_type": "execute_result"
    }
   ],
   "source": [
    "quakes2003 = df_70[df_70.time.str.contains(\"2003\")]\n",
    "quakes2003.shape"
   ]
  },
  {
   "cell_type": "code",
   "execution_count": 48,
   "metadata": {},
   "outputs": [
    {
     "data": {
      "text/plain": [
       "(16, 22)"
      ]
     },
     "execution_count": 48,
     "metadata": {},
     "output_type": "execute_result"
    }
   ],
   "source": [
    "quakes2004 = df_70[df_70.time.str.contains(\"2004\")]\n",
    "quakes2004.shape"
   ]
  },
  {
   "cell_type": "code",
   "execution_count": 49,
   "metadata": {},
   "outputs": [
    {
     "data": {
      "text/plain": [
       "(24, 22)"
      ]
     },
     "execution_count": 49,
     "metadata": {},
     "output_type": "execute_result"
    }
   ],
   "source": [
    "quakes2005 = df_70[df_70.time.str.contains(\"2005\")]\n",
    "quakes2005.shape"
   ]
  },
  {
   "cell_type": "code",
   "execution_count": 50,
   "metadata": {},
   "outputs": [
    {
     "data": {
      "text/plain": [
       "(39, 22)"
      ]
     },
     "execution_count": 50,
     "metadata": {},
     "output_type": "execute_result"
    }
   ],
   "source": [
    "quakes2006 = df_70[df_70.time.str.contains(\"2006\")]\n",
    "quakes2006.shape"
   ]
  },
  {
   "cell_type": "code",
   "execution_count": 51,
   "metadata": {},
   "outputs": [
    {
     "data": {
      "text/plain": [
       "(25, 22)"
      ]
     },
     "execution_count": 51,
     "metadata": {},
     "output_type": "execute_result"
    }
   ],
   "source": [
    "quakes2007 = df_70[df_70.time.str.contains(\"2007\")]\n",
    "quakes2007.shape"
   ]
  },
  {
   "cell_type": "code",
   "execution_count": 52,
   "metadata": {},
   "outputs": [
    {
     "data": {
      "text/plain": [
       "(27, 22)"
      ]
     },
     "execution_count": 52,
     "metadata": {},
     "output_type": "execute_result"
    }
   ],
   "source": [
    "quakes2008 = df_70[df_70.time.str.contains(\"2008\")]\n",
    "quakes2008.shape"
   ]
  },
  {
   "cell_type": "code",
   "execution_count": 53,
   "metadata": {},
   "outputs": [
    {
     "data": {
      "text/plain": [
       "(47, 22)"
      ]
     },
     "execution_count": 53,
     "metadata": {},
     "output_type": "execute_result"
    }
   ],
   "source": [
    "quakes2009 = df_70[df_70.time.str.contains(\"2009\")]\n",
    "quakes2009.shape"
   ]
  },
  {
   "cell_type": "code",
   "execution_count": 178,
   "metadata": {},
   "outputs": [
    {
     "data": {
      "text/plain": [
       "(93, 22)"
      ]
     },
     "execution_count": 178,
     "metadata": {},
     "output_type": "execute_result"
    }
   ],
   "source": [
    "quakes2010 = df_70[df_70.time.str.contains(\"2010\")]\n",
    "quakes2010.shape"
   ]
  },
  {
   "cell_type": "code",
   "execution_count": 54,
   "metadata": {},
   "outputs": [
    {
     "data": {
      "text/plain": [
       "(128, 22)"
      ]
     },
     "execution_count": 54,
     "metadata": {},
     "output_type": "execute_result"
    }
   ],
   "source": [
    "quakes2011 = df_70[df_70.time.str.contains(\"2011\")]\n",
    "quakes2011.shape"
   ]
  },
  {
   "cell_type": "code",
   "execution_count": 55,
   "metadata": {},
   "outputs": [
    {
     "data": {
      "text/plain": [
       "(70, 22)"
      ]
     },
     "execution_count": 55,
     "metadata": {},
     "output_type": "execute_result"
    }
   ],
   "source": [
    "quakes2012 = df_70[df_70.time.str.contains(\"2012\")]\n",
    "quakes2012.shape"
   ]
  },
  {
   "cell_type": "code",
   "execution_count": 56,
   "metadata": {},
   "outputs": [
    {
     "data": {
      "text/plain": [
       "(147, 22)"
      ]
     },
     "execution_count": 56,
     "metadata": {},
     "output_type": "execute_result"
    }
   ],
   "source": [
    "quakes2013 = df_70[df_70.time.str.contains(\"2013\")]\n",
    "quakes2013.shape"
   ]
  },
  {
   "cell_type": "code",
   "execution_count": 57,
   "metadata": {},
   "outputs": [
    {
     "data": {
      "text/plain": [
       "(658, 22)"
      ]
     },
     "execution_count": 57,
     "metadata": {},
     "output_type": "execute_result"
    }
   ],
   "source": [
    "quakes2014 = df_70[df_70.time.str.contains(\"2014\")]\n",
    "quakes2014.shape"
   ]
  },
  {
   "cell_type": "code",
   "execution_count": 58,
   "metadata": {},
   "outputs": [
    {
     "data": {
      "text/plain": [
       "(995, 22)"
      ]
     },
     "execution_count": 58,
     "metadata": {},
     "output_type": "execute_result"
    }
   ],
   "source": [
    "quakes2015 = df_70[df_70.time.str.contains(\"2015\")]\n",
    "quakes2015.shape"
   ]
  },
  {
   "cell_type": "code",
   "execution_count": 59,
   "metadata": {},
   "outputs": [
    {
     "data": {
      "text/plain": [
       "(678, 22)"
      ]
     },
     "execution_count": 59,
     "metadata": {},
     "output_type": "execute_result"
    }
   ],
   "source": [
    "quakes2016 = df_70[df_70.time.str.contains(\"2016\")]\n",
    "quakes2016.shape"
   ]
  },
  {
   "cell_type": "code",
   "execution_count": 60,
   "metadata": {},
   "outputs": [
    {
     "data": {
      "text/plain": [
       "(188, 22)"
      ]
     },
     "execution_count": 60,
     "metadata": {},
     "output_type": "execute_result"
    }
   ],
   "source": [
    "quakes2017 = df_70[df_70.time.str.contains(\"2017\")]\n",
    "quakes2017.shape"
   ]
  },
  {
   "cell_type": "code",
   "execution_count": 61,
   "metadata": {},
   "outputs": [
    {
     "data": {
      "text/plain": [
       "time                object\n",
       "latitude           float64\n",
       "longitude          float64\n",
       "depth              float64\n",
       "mag                float64\n",
       "magType             object\n",
       "nst                float64\n",
       "gap                float64\n",
       "dmin               float64\n",
       "rms                float64\n",
       "net                 object\n",
       "id                  object\n",
       "updated             object\n",
       "place               object\n",
       "type                object\n",
       "horizontalError    float64\n",
       "depthError         float64\n",
       "magError           float64\n",
       "magNst             float64\n",
       "status              object\n",
       "locationSource      object\n",
       "magSource           object\n",
       "dtype: object"
      ]
     },
     "execution_count": 61,
     "metadata": {},
     "output_type": "execute_result"
    }
   ],
   "source": [
    "quakes2017.dtypes"
   ]
  },
  {
   "cell_type": "code",
   "execution_count": 18,
   "metadata": {
    "collapsed": true
   },
   "outputs": [],
   "source": [
    "import re"
   ]
  },
  {
   "cell_type": "code",
   "execution_count": 19,
   "metadata": {
    "collapsed": true
   },
   "outputs": [],
   "source": [
    "df_america = df_70[~df_70[\"place\"].str.contains('Canada')]"
   ]
  },
  {
   "cell_type": "code",
   "execution_count": 20,
   "metadata": {},
   "outputs": [
    {
     "name": "stderr",
     "output_type": "stream",
     "text": [
      "/usr/local/lib/python3.6/site-packages/ipykernel_launcher.py:2: SettingWithCopyWarning: \n",
      "A value is trying to be set on a copy of a slice from a DataFrame.\n",
      "Try using .loc[row_indexer,col_indexer] = value instead\n",
      "\n",
      "See the caveats in the documentation: http://pandas.pydata.org/pandas-docs/stable/indexing.html#indexing-view-versus-copy\n",
      "  \n"
     ]
    }
   ],
   "source": [
    "#df_america.place.str.extract(r\", (.*)\")\n",
    "df_america['state_loc'] = df_america.apply(lambda row: row.place.split(\", \")[-1], axis=1)"
   ]
  },
  {
   "cell_type": "code",
   "execution_count": 31,
   "metadata": {},
   "outputs": [
    {
     "data": {
      "text/plain": [
       "5.000     778\n",
       "10.000     89\n",
       "0.000      27\n",
       "1.000      19\n",
       "3.000      15\n",
       "2.000      15\n",
       "3.100      13\n",
       "8.000      11\n",
       "4.000      11\n",
       "7.000      10\n",
       "6.000      10\n",
       "33.000      9\n",
       "4.400       9\n",
       "4.200       9\n",
       "5.300       8\n",
       "15.000      8\n",
       "5.100       7\n",
       "6.100       7\n",
       "5.400       7\n",
       "18.000      7\n",
       "3.600       6\n",
       "3.400       6\n",
       "6.400       6\n",
       "6.900       6\n",
       "3.300       6\n",
       "4.600       6\n",
       "3.200       6\n",
       "6.700       5\n",
       "1.100       5\n",
       "11.000      5\n",
       "         ... \n",
       "3.159       1\n",
       "3.854       1\n",
       "0.780       1\n",
       "4.506       1\n",
       "6.522       1\n",
       "4.323       1\n",
       "4.744       1\n",
       "3.940       1\n",
       "7.069       1\n",
       "6.806       1\n",
       "6.086       1\n",
       "4.487       1\n",
       "8.104       1\n",
       "4.160       1\n",
       "7.683       1\n",
       "6.284       1\n",
       "2.700       1\n",
       "2.588       1\n",
       "5.322       1\n",
       "5.364       1\n",
       "3.089       1\n",
       "4.988       1\n",
       "7.414       1\n",
       "1.129       1\n",
       "15.480      1\n",
       "11.241      1\n",
       "4.687       1\n",
       "3.555       1\n",
       "4.930       1\n",
       "0.700       1\n",
       "Name: depth, Length: 1940, dtype: int64"
      ]
     },
     "execution_count": 31,
     "metadata": {},
     "output_type": "execute_result"
    }
   ],
   "source": [
    "df_america.depth.value_counts()"
   ]
  },
  {
   "cell_type": "code",
   "execution_count": 22,
   "metadata": {},
   "outputs": [
    {
     "data": {
      "text/plain": [
       "Index(['time', 'latitude', 'longitude', 'depth', 'mag', 'magType', 'nst',\n",
       "       'gap', 'dmin', 'rms', 'net', 'id', 'updated', 'place', 'type',\n",
       "       'horizontalError', 'depthError', 'magError', 'magNst', 'status',\n",
       "       'locationSource', 'magSource', 'state_loc'],\n",
       "      dtype='object')"
      ]
     },
     "execution_count": 22,
     "metadata": {},
     "output_type": "execute_result"
    }
   ],
   "source": [
    "df_america.columns"
   ]
  },
  {
   "cell_type": "code",
   "execution_count": 23,
   "metadata": {},
   "outputs": [
    {
     "name": "stderr",
     "output_type": "stream",
     "text": [
      "/usr/local/lib/python3.6/site-packages/ipykernel_launcher.py:2: SettingWithCopyWarning: \n",
      "A value is trying to be set on a copy of a slice from a DataFrame.\n",
      "Try using .loc[row_indexer,col_indexer] = value instead\n",
      "\n",
      "See the caveats in the documentation: http://pandas.pydata.org/pandas-docs/stable/indexing.html#indexing-view-versus-copy\n",
      "  \n"
     ]
    }
   ],
   "source": [
    "import datetime as dt\n",
    "df_america['time'] = pd.to_datetime(df_america['time'], errors='coerce')"
   ]
  },
  {
   "cell_type": "code",
   "execution_count": 24,
   "metadata": {},
   "outputs": [
    {
     "name": "stderr",
     "output_type": "stream",
     "text": [
      "/usr/local/lib/python3.6/site-packages/ipykernel_launcher.py:1: SettingWithCopyWarning: \n",
      "A value is trying to be set on a copy of a slice from a DataFrame.\n",
      "Try using .loc[row_indexer,col_indexer] = value instead\n",
      "\n",
      "See the caveats in the documentation: http://pandas.pydata.org/pandas-docs/stable/indexing.html#indexing-view-versus-copy\n",
      "  \"\"\"Entry point for launching an IPython kernel.\n"
     ]
    }
   ],
   "source": [
    "df_america['year'] = df_america['time'].dt.year"
   ]
  },
  {
   "cell_type": "code",
   "execution_count": 25,
   "metadata": {},
   "outputs": [
    {
     "name": "stderr",
     "output_type": "stream",
     "text": [
      "/usr/local/lib/python3.6/site-packages/ipykernel_launcher.py:1: SettingWithCopyWarning: \n",
      "A value is trying to be set on a copy of a slice from a DataFrame.\n",
      "Try using .loc[row_indexer,col_indexer] = value instead\n",
      "\n",
      "See the caveats in the documentation: http://pandas.pydata.org/pandas-docs/stable/indexing.html#indexing-view-versus-copy\n",
      "  \"\"\"Entry point for launching an IPython kernel.\n"
     ]
    }
   ],
   "source": [
    "df_america['month'] = df_america['time'].dt.month"
   ]
  },
  {
   "cell_type": "code",
   "execution_count": 26,
   "metadata": {
    "scrolled": true
   },
   "outputs": [
    {
     "data": {
      "text/plain": [
       "<matplotlib.axes._subplots.AxesSubplot at 0x117dca198>"
      ]
     },
     "execution_count": 26,
     "metadata": {},
     "output_type": "execute_result"
    },
    {
     "data": {
      "image/png": "[encoded data removed]",
      "text/plain": [
       "<matplotlib.figure.Figure at 0x117dd4e10>"
      ]
     },
     "metadata": {},
     "output_type": "display_data"
    }
   ],
   "source": [
    "import matplotlib.pyplot as plt\n",
    "CountStatus = pd.value_counts(df_america['year'].values, sort=True)\n",
    "CountStatus.sort_values(ascending=True).tail(10).plot.barh(title='Number of earthquakes per year')"
   ]
  },
  {
   "cell_type": "code",
   "execution_count": 27,
   "metadata": {},
   "outputs": [
    {
     "data": {
      "text/plain": [
       "<matplotlib.axes._subplots.AxesSubplot at 0x10b1ed780>"
      ]
     },
     "execution_count": 27,
     "metadata": {},
     "output_type": "execute_result"
    },
    {
     "data": {
      "image/png": "[encoded data removed]",
      "text/plain": [
       "<matplotlib.figure.Figure at 0x117db6ef0>"
      ]
     },
     "metadata": {},
     "output_type": "display_data"
    }
   ],
   "source": [
    "CountStatus11 = pd.value_counts(df_america['year'].values, sort=True)\n",
    "CountStatus11.sort_values(ascending=True).tail(10).plot.barh(title='Number of earthquakes per year')"
   ]
  },
  {
   "cell_type": "code",
   "execution_count": 28,
   "metadata": {},
   "outputs": [
    {
     "data": {
      "text/plain": [
       "<matplotlib.axes._subplots.AxesSubplot at 0x1180f7940>"
      ]
     },
     "execution_count": 28,
     "metadata": {},
     "output_type": "execute_result"
    },
    {
     "data": {
      "image/png": "[encoded data removed]",
      "text/plain": [
       "<matplotlib.figure.Figure at 0x117e20828>"
      ]
     },
     "metadata": {},
     "output_type": "display_data"
    }
   ],
   "source": [
    "CountStatus1 = pd.value_counts(df_america['month'].values, sort=True)\n",
    "CountStatus1.sort_values(ascending=True).tail(10).plot.barh(title='Number of earthquakes per month')"
   ]
  },
  {
   "cell_type": "code",
   "execution_count": 29,
   "metadata": {},
   "outputs": [
    {
     "data": {
      "text/plain": [
       "<matplotlib.axes._subplots.AxesSubplot at 0x10ead3940>"
      ]
     },
     "execution_count": 29,
     "metadata": {},
     "output_type": "execute_result"
    },
    {
     "data": {
      "image/png": "[encoded data removed]",
      "text/plain": [
       "<matplotlib.figure.Figure at 0x118012400>"
      ]
     },
     "metadata": {},
     "output_type": "display_data"
    }
   ],
   "source": [
    "CountStatus2 = pd.value_counts(df_america['state_loc'].values, sort=True)\n",
    "CountStatus2.sort_values(ascending=True).tail(10).plot.barh(title='States where most earthquakes have occured')"
   ]
  },
  {
   "cell_type": "code",
   "execution_count": 38,
   "metadata": {},
   "outputs": [
    {
     "data": {
      "text/plain": [
       "<matplotlib.axes._subplots.AxesSubplot at 0x118617048>"
      ]
     },
     "execution_count": 38,
     "metadata": {},
     "output_type": "execute_result"
    },
    {
     "data": {
      "image/png": "[encoded data removed]",
      "text/plain": [
       "<matplotlib.figure.Figure at 0x1185db320>"
      ]
     },
     "metadata": {},
     "output_type": "display_data"
    }
   ],
   "source": [
    "df_america.depth.value_counts().sort_values(ascending=True).tail(5).plot(kind='barh', y='depth', title=\"Most earthquakes seem to be shallow\")"
   ]
  },
  {
   "cell_type": "code",
   "execution_count": 68,
   "metadata": {
    "collapsed": true
   },
   "outputs": [],
   "source": [
    "df_top = pd.read_csv(\"East-10.csv\")"
   ]
  },
  {
   "cell_type": "code",
   "execution_count": 69,
   "metadata": {},
   "outputs": [
    {
     "data": {
      "text/html": [
       "<div>\n",
       "<style>\n",
       "    .dataframe thead tr:only-child th {\n",
       "        text-align: right;\n",
       "    }\n",
       "\n",
       "    .dataframe thead th {\n",
       "        text-align: left;\n",
       "    }\n",
       "\n",
       "    .dataframe tbody tr th {\n",
       "        vertical-align: top;\n",
       "    }\n",
       "</style>\n",
       "<table border=\"1\" class=\"dataframe\">\n",
       "  <thead>\n",
       "    <tr style=\"text-align: right;\">\n",
       "      <th></th>\n",
       "      <th>Area</th>\n",
       "      <th>Magnitude</th>\n",
       "      <th>Year</th>\n",
       "    </tr>\n",
       "  </thead>\n",
       "  <tbody>\n",
       "    <tr>\n",
       "      <th>0</th>\n",
       "      <td>New Madrid, Mo (1811)</td>\n",
       "      <td>7.7</td>\n",
       "      <td>1811</td>\n",
       "    </tr>\n",
       "    <tr>\n",
       "      <th>1</th>\n",
       "      <td>Charleston, SC (1886)</td>\n",
       "      <td>7.3</td>\n",
       "      <td>1886</td>\n",
       "    </tr>\n",
       "    <tr>\n",
       "      <th>2</th>\n",
       "      <td>Mississippi County, Mo (1895)</td>\n",
       "      <td>6.6</td>\n",
       "      <td>1895</td>\n",
       "    </tr>\n",
       "    <tr>\n",
       "      <th>3</th>\n",
       "      <td>Northeast Arkansas (1843)</td>\n",
       "      <td>6.3</td>\n",
       "      <td>1843</td>\n",
       "    </tr>\n",
       "    <tr>\n",
       "      <th>4</th>\n",
       "      <td>Giles County, Va (1897)</td>\n",
       "      <td>5.9</td>\n",
       "      <td>1897</td>\n",
       "    </tr>\n",
       "    <tr>\n",
       "      <th>5</th>\n",
       "      <td>Piedmont, Va (2011)</td>\n",
       "      <td>5.8</td>\n",
       "      <td>2011</td>\n",
       "    </tr>\n",
       "    <tr>\n",
       "      <th>6</th>\n",
       "      <td>Pawnee, Oklahoma (2016)</td>\n",
       "      <td>5.8</td>\n",
       "      <td>2016</td>\n",
       "    </tr>\n",
       "    <tr>\n",
       "      <th>7</th>\n",
       "      <td>NYC, New York (1884)</td>\n",
       "      <td>5.5</td>\n",
       "      <td>1884</td>\n",
       "    </tr>\n",
       "    <tr>\n",
       "      <th>8</th>\n",
       "      <td>Ossipee Lake, NH (1940)</td>\n",
       "      <td>5.5</td>\n",
       "      <td>1940</td>\n",
       "    </tr>\n",
       "    <tr>\n",
       "      <th>9</th>\n",
       "      <td>Southern Illinois (1968)</td>\n",
       "      <td>5.4</td>\n",
       "      <td>1968</td>\n",
       "    </tr>\n",
       "    <tr>\n",
       "      <th>10</th>\n",
       "      <td>Southern Illinois (2008)</td>\n",
       "      <td>5.4</td>\n",
       "      <td>2008</td>\n",
       "    </tr>\n",
       "    <tr>\n",
       "      <th>11</th>\n",
       "      <td>Blue Mountain Lake, NY (1983)</td>\n",
       "      <td>5.3</td>\n",
       "      <td>1983</td>\n",
       "    </tr>\n",
       "  </tbody>\n",
       "</table>\n",
       "</div>"
      ],
      "text/plain": [
       "                             Area  Magnitude  Year\n",
       "0           New Madrid, Mo (1811)        7.7  1811\n",
       "1           Charleston, SC (1886)        7.3  1886\n",
       "2   Mississippi County, Mo (1895)        6.6  1895\n",
       "3       Northeast Arkansas (1843)        6.3  1843\n",
       "4         Giles County, Va (1897)        5.9  1897\n",
       "5             Piedmont, Va (2011)        5.8  2011\n",
       "6         Pawnee, Oklahoma (2016)        5.8  2016\n",
       "7            NYC, New York (1884)        5.5  1884\n",
       "8         Ossipee Lake, NH (1940)        5.5  1940\n",
       "9        Southern Illinois (1968)        5.4  1968\n",
       "10       Southern Illinois (2008)        5.4  2008\n",
       "11  Blue Mountain Lake, NY (1983)        5.3  1983"
      ]
     },
     "execution_count": 69,
     "metadata": {},
     "output_type": "execute_result"
    }
   ],
   "source": [
    "df_top"
   ]
  },
  {
   "cell_type": "code",
   "execution_count": 70,
   "metadata": {},
   "outputs": [
    {
     "data": {
      "text/plain": [
       "<matplotlib.axes._subplots.AxesSubplot at 0x1172d9160>"
      ]
     },
     "execution_count": 70,
     "metadata": {},
     "output_type": "execute_result"
    },
    {
     "data": {
      "image/png": "[encoded data removed]",
      "text/plain": [
       "<matplotlib.figure.Figure at 0x11ad14d30>"
      ]
     },
     "metadata": {},
     "output_type": "display_data"
    }
   ],
   "source": [
    "df_top.sort_values(by='Magnitude', ascending=True).tail(10).plot(kind='barh', x= 'Area', y= 'Magnitude', color='red', title='Ten largest earthquakes in central and eastern US')"
   ]
  },
  {
   "cell_type": "code",
   "execution_count": null,
   "metadata": {
    "collapsed": true
   },
   "outputs": [],
   "source": [
    "# A few areas of the midwestern and eastern United States are more prone to earthquakes \n",
    "# than others. The most earthquake-prone areas include Charleston, South Carolina, \n",
    "# eastern Massachusetts, the St. Lawrence River area, \n",
    "# and the central Mississippi River Valley. \n",
    "# Others sections of this part of the country are prone to earthquakes, \n",
    "# but can expect fewer quakes of smaller magnitude."
   ]
  }
 ],
 "metadata": {
  "kernelspec": {
   "display_name": "Python 3",
   "language": "python",
   "name": "python3"
  },
  "language_info": {
   "codemirror_mode": {
    "name": "ipython",
    "version": 3
   },
   "file_extension": ".py",
   "mimetype": "text/x-python",
   "name": "python",
   "nbconvert_exporter": "python",
   "pygments_lexer": "ipython3",
   "version": "3.6.1"
  }
 },
 "nbformat": 4,
 "nbformat_minor": 2
}
